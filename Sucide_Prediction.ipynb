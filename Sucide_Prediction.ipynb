{
 "cells": [
  {
   "cell_type": "code",
   "execution_count": 2,
   "id": "211161e7",
   "metadata": {},
   "outputs": [],
   "source": [
    "import pandas as pd\n",
    "import numpy as np\n",
    "import re\n"
   ]
  },
  {
   "cell_type": "code",
   "execution_count": 3,
   "id": "5e061980",
   "metadata": {},
   "outputs": [],
   "source": [
    "df=pd.read_csv('Suicide_Detection.csv')"
   ]
  },
  {
   "cell_type": "code",
   "execution_count": 4,
   "id": "89c755d3",
   "metadata": {},
   "outputs": [
    {
     "data": {
      "text/html": [
       "<div>\n",
       "<style scoped>\n",
       "    .dataframe tbody tr th:only-of-type {\n",
       "        vertical-align: middle;\n",
       "    }\n",
       "\n",
       "    .dataframe tbody tr th {\n",
       "        vertical-align: top;\n",
       "    }\n",
       "\n",
       "    .dataframe thead th {\n",
       "        text-align: right;\n",
       "    }\n",
       "</style>\n",
       "<table border=\"1\" class=\"dataframe\">\n",
       "  <thead>\n",
       "    <tr style=\"text-align: right;\">\n",
       "      <th></th>\n",
       "      <th>Unnamed: 0</th>\n",
       "      <th>text</th>\n",
       "      <th>class</th>\n",
       "    </tr>\n",
       "  </thead>\n",
       "  <tbody>\n",
       "    <tr>\n",
       "      <th>0</th>\n",
       "      <td>2</td>\n",
       "      <td>Ex Wife Threatening SuicideRecently I left my ...</td>\n",
       "      <td>suicide</td>\n",
       "    </tr>\n",
       "    <tr>\n",
       "      <th>1</th>\n",
       "      <td>3</td>\n",
       "      <td>Am I weird I don't get affected by compliments...</td>\n",
       "      <td>non-suicide</td>\n",
       "    </tr>\n",
       "    <tr>\n",
       "      <th>2</th>\n",
       "      <td>4</td>\n",
       "      <td>Finally 2020 is almost over... So I can never ...</td>\n",
       "      <td>non-suicide</td>\n",
       "    </tr>\n",
       "    <tr>\n",
       "      <th>3</th>\n",
       "      <td>8</td>\n",
       "      <td>i need helpjust help me im crying so hard</td>\n",
       "      <td>suicide</td>\n",
       "    </tr>\n",
       "    <tr>\n",
       "      <th>4</th>\n",
       "      <td>9</td>\n",
       "      <td>I’m so lostHello, my name is Adam (16) and I’v...</td>\n",
       "      <td>suicide</td>\n",
       "    </tr>\n",
       "  </tbody>\n",
       "</table>\n",
       "</div>"
      ],
      "text/plain": [
       "   Unnamed: 0                                               text        class\n",
       "0           2  Ex Wife Threatening SuicideRecently I left my ...      suicide\n",
       "1           3  Am I weird I don't get affected by compliments...  non-suicide\n",
       "2           4  Finally 2020 is almost over... So I can never ...  non-suicide\n",
       "3           8          i need helpjust help me im crying so hard      suicide\n",
       "4           9  I’m so lostHello, my name is Adam (16) and I’v...      suicide"
      ]
     },
     "execution_count": 4,
     "metadata": {},
     "output_type": "execute_result"
    }
   ],
   "source": [
    "df.head()"
   ]
  },
  {
   "cell_type": "code",
   "execution_count": 5,
   "id": "d255f2d7",
   "metadata": {},
   "outputs": [
    {
     "data": {
      "text/plain": [
       "(232074, 3)"
      ]
     },
     "execution_count": 5,
     "metadata": {},
     "output_type": "execute_result"
    }
   ],
   "source": [
    "df.shape"
   ]
  },
  {
   "cell_type": "code",
   "execution_count": 6,
   "id": "c14740fa",
   "metadata": {},
   "outputs": [
    {
     "name": "stdout",
     "output_type": "stream",
     "text": [
      "<class 'pandas.core.frame.DataFrame'>\n",
      "RangeIndex: 232074 entries, 0 to 232073\n",
      "Data columns (total 3 columns):\n",
      " #   Column      Non-Null Count   Dtype \n",
      "---  ------      --------------   ----- \n",
      " 0   Unnamed: 0  232074 non-null  int64 \n",
      " 1   text        232074 non-null  object\n",
      " 2   class       232074 non-null  object\n",
      "dtypes: int64(1), object(2)\n",
      "memory usage: 5.3+ MB\n"
     ]
    }
   ],
   "source": [
    "df.info()"
   ]
  },
  {
   "cell_type": "code",
   "execution_count": 7,
   "id": "f6a1d7e4",
   "metadata": {},
   "outputs": [
    {
     "data": {
      "text/plain": [
       "0"
      ]
     },
     "execution_count": 7,
     "metadata": {},
     "output_type": "execute_result"
    }
   ],
   "source": [
    "null_count = df['class'].isnull().sum()\n",
    "null_count"
   ]
  },
  {
   "cell_type": "code",
   "execution_count": 8,
   "id": "71abb482",
   "metadata": {},
   "outputs": [],
   "source": [
    "df.drop(\"Unnamed: 0\", axis=1, inplace=True)"
   ]
  },
  {
   "cell_type": "code",
   "execution_count": 9,
   "id": "18a0b51b",
   "metadata": {},
   "outputs": [
    {
     "data": {
      "text/html": [
       "<div>\n",
       "<style scoped>\n",
       "    .dataframe tbody tr th:only-of-type {\n",
       "        vertical-align: middle;\n",
       "    }\n",
       "\n",
       "    .dataframe tbody tr th {\n",
       "        vertical-align: top;\n",
       "    }\n",
       "\n",
       "    .dataframe thead th {\n",
       "        text-align: right;\n",
       "    }\n",
       "</style>\n",
       "<table border=\"1\" class=\"dataframe\">\n",
       "  <thead>\n",
       "    <tr style=\"text-align: right;\">\n",
       "      <th></th>\n",
       "      <th>text</th>\n",
       "      <th>class</th>\n",
       "    </tr>\n",
       "  </thead>\n",
       "  <tbody>\n",
       "    <tr>\n",
       "      <th>0</th>\n",
       "      <td>Ex Wife Threatening SuicideRecently I left my ...</td>\n",
       "      <td>suicide</td>\n",
       "    </tr>\n",
       "    <tr>\n",
       "      <th>1</th>\n",
       "      <td>Am I weird I don't get affected by compliments...</td>\n",
       "      <td>non-suicide</td>\n",
       "    </tr>\n",
       "    <tr>\n",
       "      <th>2</th>\n",
       "      <td>Finally 2020 is almost over... So I can never ...</td>\n",
       "      <td>non-suicide</td>\n",
       "    </tr>\n",
       "    <tr>\n",
       "      <th>3</th>\n",
       "      <td>i need helpjust help me im crying so hard</td>\n",
       "      <td>suicide</td>\n",
       "    </tr>\n",
       "    <tr>\n",
       "      <th>4</th>\n",
       "      <td>I’m so lostHello, my name is Adam (16) and I’v...</td>\n",
       "      <td>suicide</td>\n",
       "    </tr>\n",
       "  </tbody>\n",
       "</table>\n",
       "</div>"
      ],
      "text/plain": [
       "                                                text        class\n",
       "0  Ex Wife Threatening SuicideRecently I left my ...      suicide\n",
       "1  Am I weird I don't get affected by compliments...  non-suicide\n",
       "2  Finally 2020 is almost over... So I can never ...  non-suicide\n",
       "3          i need helpjust help me im crying so hard      suicide\n",
       "4  I’m so lostHello, my name is Adam (16) and I’v...      suicide"
      ]
     },
     "execution_count": 9,
     "metadata": {},
     "output_type": "execute_result"
    }
   ],
   "source": [
    "df.head()"
   ]
  },
  {
   "cell_type": "code",
   "execution_count": null,
   "id": "b223b2dc",
   "metadata": {},
   "outputs": [],
   "source": []
  },
  {
   "cell_type": "code",
   "execution_count": 10,
   "id": "471c216d",
   "metadata": {},
   "outputs": [
    {
     "data": {
      "text/html": [
       "<div>\n",
       "<style scoped>\n",
       "    .dataframe tbody tr th:only-of-type {\n",
       "        vertical-align: middle;\n",
       "    }\n",
       "\n",
       "    .dataframe tbody tr th {\n",
       "        vertical-align: top;\n",
       "    }\n",
       "\n",
       "    .dataframe thead th {\n",
       "        text-align: right;\n",
       "    }\n",
       "</style>\n",
       "<table border=\"1\" class=\"dataframe\">\n",
       "  <thead>\n",
       "    <tr style=\"text-align: right;\">\n",
       "      <th></th>\n",
       "      <th>text</th>\n",
       "      <th>class</th>\n",
       "    </tr>\n",
       "  </thead>\n",
       "  <tbody>\n",
       "    <tr>\n",
       "      <th>0</th>\n",
       "      <td>Ex Wife Threatening SuicideRecently I left my ...</td>\n",
       "      <td>suicide</td>\n",
       "    </tr>\n",
       "    <tr>\n",
       "      <th>1</th>\n",
       "      <td>Am I weird I don't get affected by compliments...</td>\n",
       "      <td>non-suicide</td>\n",
       "    </tr>\n",
       "    <tr>\n",
       "      <th>2</th>\n",
       "      <td>Finally 2020 is almost over... So I can never ...</td>\n",
       "      <td>non-suicide</td>\n",
       "    </tr>\n",
       "    <tr>\n",
       "      <th>3</th>\n",
       "      <td>i need helpjust help me im crying so hard</td>\n",
       "      <td>suicide</td>\n",
       "    </tr>\n",
       "    <tr>\n",
       "      <th>4</th>\n",
       "      <td>I’m so lostHello, my name is Adam (16) and I’v...</td>\n",
       "      <td>suicide</td>\n",
       "    </tr>\n",
       "    <tr>\n",
       "      <th>...</th>\n",
       "      <td>...</td>\n",
       "      <td>...</td>\n",
       "    </tr>\n",
       "    <tr>\n",
       "      <th>95</th>\n",
       "      <td>day 3 of posting something i get mildly infuri...</td>\n",
       "      <td>non-suicide</td>\n",
       "    </tr>\n",
       "    <tr>\n",
       "      <th>96</th>\n",
       "      <td>A lot of stuff to handle at once for me \\nSorr...</td>\n",
       "      <td>non-suicide</td>\n",
       "    </tr>\n",
       "    <tr>\n",
       "      <th>97</th>\n",
       "      <td>I'm going to wait for a version of senorita In...</td>\n",
       "      <td>non-suicide</td>\n",
       "    </tr>\n",
       "    <tr>\n",
       "      <th>98</th>\n",
       "      <td>You know I just realized you cant have an opin...</td>\n",
       "      <td>non-suicide</td>\n",
       "    </tr>\n",
       "    <tr>\n",
       "      <th>99</th>\n",
       "      <td>2929\\n\\n\\nThat’s the oldest I’ve ever been. It...</td>\n",
       "      <td>suicide</td>\n",
       "    </tr>\n",
       "  </tbody>\n",
       "</table>\n",
       "<p>100 rows × 2 columns</p>\n",
       "</div>"
      ],
      "text/plain": [
       "                                                 text        class\n",
       "0   Ex Wife Threatening SuicideRecently I left my ...      suicide\n",
       "1   Am I weird I don't get affected by compliments...  non-suicide\n",
       "2   Finally 2020 is almost over... So I can never ...  non-suicide\n",
       "3           i need helpjust help me im crying so hard      suicide\n",
       "4   I’m so lostHello, my name is Adam (16) and I’v...      suicide\n",
       "..                                                ...          ...\n",
       "95  day 3 of posting something i get mildly infuri...  non-suicide\n",
       "96  A lot of stuff to handle at once for me \\nSorr...  non-suicide\n",
       "97  I'm going to wait for a version of senorita In...  non-suicide\n",
       "98  You know I just realized you cant have an opin...  non-suicide\n",
       "99  2929\\n\\n\\nThat’s the oldest I’ve ever been. It...      suicide\n",
       "\n",
       "[100 rows x 2 columns]"
      ]
     },
     "execution_count": 10,
     "metadata": {},
     "output_type": "execute_result"
    }
   ],
   "source": [
    "df.head(100)"
   ]
  },
  {
   "cell_type": "code",
   "execution_count": 11,
   "id": "28f8b07f",
   "metadata": {},
   "outputs": [],
   "source": [
    "df['text_lower'] = df['text'].apply(lambda x: str(x).lower())"
   ]
  },
  {
   "cell_type": "code",
   "execution_count": 12,
   "id": "101c2b2a",
   "metadata": {},
   "outputs": [
    {
     "data": {
      "text/html": [
       "<div>\n",
       "<style scoped>\n",
       "    .dataframe tbody tr th:only-of-type {\n",
       "        vertical-align: middle;\n",
       "    }\n",
       "\n",
       "    .dataframe tbody tr th {\n",
       "        vertical-align: top;\n",
       "    }\n",
       "\n",
       "    .dataframe thead th {\n",
       "        text-align: right;\n",
       "    }\n",
       "</style>\n",
       "<table border=\"1\" class=\"dataframe\">\n",
       "  <thead>\n",
       "    <tr style=\"text-align: right;\">\n",
       "      <th></th>\n",
       "      <th>text</th>\n",
       "      <th>class</th>\n",
       "      <th>text_lower</th>\n",
       "    </tr>\n",
       "  </thead>\n",
       "  <tbody>\n",
       "    <tr>\n",
       "      <th>0</th>\n",
       "      <td>Ex Wife Threatening SuicideRecently I left my ...</td>\n",
       "      <td>suicide</td>\n",
       "      <td>ex wife threatening suiciderecently i left my ...</td>\n",
       "    </tr>\n",
       "    <tr>\n",
       "      <th>1</th>\n",
       "      <td>Am I weird I don't get affected by compliments...</td>\n",
       "      <td>non-suicide</td>\n",
       "      <td>am i weird i don't get affected by compliments...</td>\n",
       "    </tr>\n",
       "    <tr>\n",
       "      <th>2</th>\n",
       "      <td>Finally 2020 is almost over... So I can never ...</td>\n",
       "      <td>non-suicide</td>\n",
       "      <td>finally 2020 is almost over... so i can never ...</td>\n",
       "    </tr>\n",
       "    <tr>\n",
       "      <th>3</th>\n",
       "      <td>i need helpjust help me im crying so hard</td>\n",
       "      <td>suicide</td>\n",
       "      <td>i need helpjust help me im crying so hard</td>\n",
       "    </tr>\n",
       "    <tr>\n",
       "      <th>4</th>\n",
       "      <td>I’m so lostHello, my name is Adam (16) and I’v...</td>\n",
       "      <td>suicide</td>\n",
       "      <td>i’m so losthello, my name is adam (16) and i’v...</td>\n",
       "    </tr>\n",
       "  </tbody>\n",
       "</table>\n",
       "</div>"
      ],
      "text/plain": [
       "                                                text        class  \\\n",
       "0  Ex Wife Threatening SuicideRecently I left my ...      suicide   \n",
       "1  Am I weird I don't get affected by compliments...  non-suicide   \n",
       "2  Finally 2020 is almost over... So I can never ...  non-suicide   \n",
       "3          i need helpjust help me im crying so hard      suicide   \n",
       "4  I’m so lostHello, my name is Adam (16) and I’v...      suicide   \n",
       "\n",
       "                                          text_lower  \n",
       "0  ex wife threatening suiciderecently i left my ...  \n",
       "1  am i weird i don't get affected by compliments...  \n",
       "2  finally 2020 is almost over... so i can never ...  \n",
       "3          i need helpjust help me im crying so hard  \n",
       "4  i’m so losthello, my name is adam (16) and i’v...  "
      ]
     },
     "execution_count": 12,
     "metadata": {},
     "output_type": "execute_result"
    }
   ],
   "source": [
    "df.head()"
   ]
  },
  {
   "cell_type": "code",
   "execution_count": 13,
   "id": "a6ebc072",
   "metadata": {},
   "outputs": [],
   "source": [
    "df['text_removed_special'] = df['text_lower'].apply(lambda x: re.sub(r'[^\\w\\s]', '', str(x)))"
   ]
  },
  {
   "cell_type": "code",
   "execution_count": 14,
   "id": "c195adcd",
   "metadata": {},
   "outputs": [
    {
     "data": {
      "text/html": [
       "<div>\n",
       "<style scoped>\n",
       "    .dataframe tbody tr th:only-of-type {\n",
       "        vertical-align: middle;\n",
       "    }\n",
       "\n",
       "    .dataframe tbody tr th {\n",
       "        vertical-align: top;\n",
       "    }\n",
       "\n",
       "    .dataframe thead th {\n",
       "        text-align: right;\n",
       "    }\n",
       "</style>\n",
       "<table border=\"1\" class=\"dataframe\">\n",
       "  <thead>\n",
       "    <tr style=\"text-align: right;\">\n",
       "      <th></th>\n",
       "      <th>text</th>\n",
       "      <th>class</th>\n",
       "      <th>text_lower</th>\n",
       "      <th>text_removed_special</th>\n",
       "    </tr>\n",
       "  </thead>\n",
       "  <tbody>\n",
       "    <tr>\n",
       "      <th>0</th>\n",
       "      <td>Ex Wife Threatening SuicideRecently I left my ...</td>\n",
       "      <td>suicide</td>\n",
       "      <td>ex wife threatening suiciderecently i left my ...</td>\n",
       "      <td>ex wife threatening suiciderecently i left my ...</td>\n",
       "    </tr>\n",
       "    <tr>\n",
       "      <th>1</th>\n",
       "      <td>Am I weird I don't get affected by compliments...</td>\n",
       "      <td>non-suicide</td>\n",
       "      <td>am i weird i don't get affected by compliments...</td>\n",
       "      <td>am i weird i dont get affected by compliments ...</td>\n",
       "    </tr>\n",
       "    <tr>\n",
       "      <th>2</th>\n",
       "      <td>Finally 2020 is almost over... So I can never ...</td>\n",
       "      <td>non-suicide</td>\n",
       "      <td>finally 2020 is almost over... so i can never ...</td>\n",
       "      <td>finally 2020 is almost over so i can never hea...</td>\n",
       "    </tr>\n",
       "    <tr>\n",
       "      <th>3</th>\n",
       "      <td>i need helpjust help me im crying so hard</td>\n",
       "      <td>suicide</td>\n",
       "      <td>i need helpjust help me im crying so hard</td>\n",
       "      <td>i need helpjust help me im crying so hard</td>\n",
       "    </tr>\n",
       "    <tr>\n",
       "      <th>4</th>\n",
       "      <td>I’m so lostHello, my name is Adam (16) and I’v...</td>\n",
       "      <td>suicide</td>\n",
       "      <td>i’m so losthello, my name is adam (16) and i’v...</td>\n",
       "      <td>im so losthello my name is adam 16 and ive bee...</td>\n",
       "    </tr>\n",
       "  </tbody>\n",
       "</table>\n",
       "</div>"
      ],
      "text/plain": [
       "                                                text        class  \\\n",
       "0  Ex Wife Threatening SuicideRecently I left my ...      suicide   \n",
       "1  Am I weird I don't get affected by compliments...  non-suicide   \n",
       "2  Finally 2020 is almost over... So I can never ...  non-suicide   \n",
       "3          i need helpjust help me im crying so hard      suicide   \n",
       "4  I’m so lostHello, my name is Adam (16) and I’v...      suicide   \n",
       "\n",
       "                                          text_lower  \\\n",
       "0  ex wife threatening suiciderecently i left my ...   \n",
       "1  am i weird i don't get affected by compliments...   \n",
       "2  finally 2020 is almost over... so i can never ...   \n",
       "3          i need helpjust help me im crying so hard   \n",
       "4  i’m so losthello, my name is adam (16) and i’v...   \n",
       "\n",
       "                                text_removed_special  \n",
       "0  ex wife threatening suiciderecently i left my ...  \n",
       "1  am i weird i dont get affected by compliments ...  \n",
       "2  finally 2020 is almost over so i can never hea...  \n",
       "3          i need helpjust help me im crying so hard  \n",
       "4  im so losthello my name is adam 16 and ive bee...  "
      ]
     },
     "execution_count": 14,
     "metadata": {},
     "output_type": "execute_result"
    }
   ],
   "source": [
    "df.head()"
   ]
  },
  {
   "cell_type": "code",
   "execution_count": 15,
   "id": "c0736fe2",
   "metadata": {},
   "outputs": [
    {
     "name": "stderr",
     "output_type": "stream",
     "text": [
      "[nltk_data] Downloading package punkt to\n",
      "[nltk_data]     C:\\Users\\adity\\AppData\\Roaming\\nltk_data...\n",
      "[nltk_data]   Package punkt is already up-to-date!\n"
     ]
    },
    {
     "data": {
      "text/plain": [
       "True"
      ]
     },
     "execution_count": 15,
     "metadata": {},
     "output_type": "execute_result"
    }
   ],
   "source": [
    "import nltk\n",
    "nltk.download('punkt')"
   ]
  },
  {
   "cell_type": "code",
   "execution_count": 16,
   "id": "2417e994",
   "metadata": {},
   "outputs": [],
   "source": [
    "df['text_tokenized'] = df['text_removed_special'].apply(lambda x: nltk.word_tokenize(str(x)))"
   ]
  },
  {
   "cell_type": "code",
   "execution_count": 17,
   "id": "fdd82023",
   "metadata": {},
   "outputs": [
    {
     "data": {
      "text/html": [
       "<div>\n",
       "<style scoped>\n",
       "    .dataframe tbody tr th:only-of-type {\n",
       "        vertical-align: middle;\n",
       "    }\n",
       "\n",
       "    .dataframe tbody tr th {\n",
       "        vertical-align: top;\n",
       "    }\n",
       "\n",
       "    .dataframe thead th {\n",
       "        text-align: right;\n",
       "    }\n",
       "</style>\n",
       "<table border=\"1\" class=\"dataframe\">\n",
       "  <thead>\n",
       "    <tr style=\"text-align: right;\">\n",
       "      <th></th>\n",
       "      <th>text</th>\n",
       "      <th>class</th>\n",
       "      <th>text_lower</th>\n",
       "      <th>text_removed_special</th>\n",
       "      <th>text_tokenized</th>\n",
       "    </tr>\n",
       "  </thead>\n",
       "  <tbody>\n",
       "    <tr>\n",
       "      <th>0</th>\n",
       "      <td>Ex Wife Threatening SuicideRecently I left my ...</td>\n",
       "      <td>suicide</td>\n",
       "      <td>ex wife threatening suiciderecently i left my ...</td>\n",
       "      <td>ex wife threatening suiciderecently i left my ...</td>\n",
       "      <td>[ex, wife, threatening, suiciderecently, i, le...</td>\n",
       "    </tr>\n",
       "    <tr>\n",
       "      <th>1</th>\n",
       "      <td>Am I weird I don't get affected by compliments...</td>\n",
       "      <td>non-suicide</td>\n",
       "      <td>am i weird i don't get affected by compliments...</td>\n",
       "      <td>am i weird i dont get affected by compliments ...</td>\n",
       "      <td>[am, i, weird, i, dont, get, affected, by, com...</td>\n",
       "    </tr>\n",
       "    <tr>\n",
       "      <th>2</th>\n",
       "      <td>Finally 2020 is almost over... So I can never ...</td>\n",
       "      <td>non-suicide</td>\n",
       "      <td>finally 2020 is almost over... so i can never ...</td>\n",
       "      <td>finally 2020 is almost over so i can never hea...</td>\n",
       "      <td>[finally, 2020, is, almost, over, so, i, can, ...</td>\n",
       "    </tr>\n",
       "    <tr>\n",
       "      <th>3</th>\n",
       "      <td>i need helpjust help me im crying so hard</td>\n",
       "      <td>suicide</td>\n",
       "      <td>i need helpjust help me im crying so hard</td>\n",
       "      <td>i need helpjust help me im crying so hard</td>\n",
       "      <td>[i, need, helpjust, help, me, im, crying, so, ...</td>\n",
       "    </tr>\n",
       "    <tr>\n",
       "      <th>4</th>\n",
       "      <td>I’m so lostHello, my name is Adam (16) and I’v...</td>\n",
       "      <td>suicide</td>\n",
       "      <td>i’m so losthello, my name is adam (16) and i’v...</td>\n",
       "      <td>im so losthello my name is adam 16 and ive bee...</td>\n",
       "      <td>[im, so, losthello, my, name, is, adam, 16, an...</td>\n",
       "    </tr>\n",
       "  </tbody>\n",
       "</table>\n",
       "</div>"
      ],
      "text/plain": [
       "                                                text        class  \\\n",
       "0  Ex Wife Threatening SuicideRecently I left my ...      suicide   \n",
       "1  Am I weird I don't get affected by compliments...  non-suicide   \n",
       "2  Finally 2020 is almost over... So I can never ...  non-suicide   \n",
       "3          i need helpjust help me im crying so hard      suicide   \n",
       "4  I’m so lostHello, my name is Adam (16) and I’v...      suicide   \n",
       "\n",
       "                                          text_lower  \\\n",
       "0  ex wife threatening suiciderecently i left my ...   \n",
       "1  am i weird i don't get affected by compliments...   \n",
       "2  finally 2020 is almost over... so i can never ...   \n",
       "3          i need helpjust help me im crying so hard   \n",
       "4  i’m so losthello, my name is adam (16) and i’v...   \n",
       "\n",
       "                                text_removed_special  \\\n",
       "0  ex wife threatening suiciderecently i left my ...   \n",
       "1  am i weird i dont get affected by compliments ...   \n",
       "2  finally 2020 is almost over so i can never hea...   \n",
       "3          i need helpjust help me im crying so hard   \n",
       "4  im so losthello my name is adam 16 and ive bee...   \n",
       "\n",
       "                                      text_tokenized  \n",
       "0  [ex, wife, threatening, suiciderecently, i, le...  \n",
       "1  [am, i, weird, i, dont, get, affected, by, com...  \n",
       "2  [finally, 2020, is, almost, over, so, i, can, ...  \n",
       "3  [i, need, helpjust, help, me, im, crying, so, ...  \n",
       "4  [im, so, losthello, my, name, is, adam, 16, an...  "
      ]
     },
     "execution_count": 17,
     "metadata": {},
     "output_type": "execute_result"
    }
   ],
   "source": [
    "df.head()"
   ]
  },
  {
   "cell_type": "code",
   "execution_count": 18,
   "id": "40ad6ad7",
   "metadata": {},
   "outputs": [
    {
     "name": "stderr",
     "output_type": "stream",
     "text": [
      "[nltk_data] Downloading package stopwords to\n",
      "[nltk_data]     C:\\Users\\adity\\AppData\\Roaming\\nltk_data...\n",
      "[nltk_data]   Package stopwords is already up-to-date!\n"
     ]
    },
    {
     "data": {
      "text/plain": [
       "True"
      ]
     },
     "execution_count": 18,
     "metadata": {},
     "output_type": "execute_result"
    }
   ],
   "source": [
    "from nltk.corpus import stopwords\n",
    "nltk.download('stopwords')"
   ]
  },
  {
   "cell_type": "code",
   "execution_count": 19,
   "id": "f8463f08",
   "metadata": {},
   "outputs": [],
   "source": [
    "stop_words = set(stopwords.words('english'))"
   ]
  },
  {
   "cell_type": "code",
   "execution_count": 20,
   "id": "3724a847",
   "metadata": {},
   "outputs": [],
   "source": [
    "df['text_removed_stopwords'] = df['text_tokenized'].apply(lambda tokens: [token for token in tokens if token.lower() not in stop_words])"
   ]
  },
  {
   "cell_type": "code",
   "execution_count": 21,
   "id": "be4cb9a4",
   "metadata": {},
   "outputs": [
    {
     "data": {
      "text/html": [
       "<div>\n",
       "<style scoped>\n",
       "    .dataframe tbody tr th:only-of-type {\n",
       "        vertical-align: middle;\n",
       "    }\n",
       "\n",
       "    .dataframe tbody tr th {\n",
       "        vertical-align: top;\n",
       "    }\n",
       "\n",
       "    .dataframe thead th {\n",
       "        text-align: right;\n",
       "    }\n",
       "</style>\n",
       "<table border=\"1\" class=\"dataframe\">\n",
       "  <thead>\n",
       "    <tr style=\"text-align: right;\">\n",
       "      <th></th>\n",
       "      <th>text</th>\n",
       "      <th>class</th>\n",
       "      <th>text_lower</th>\n",
       "      <th>text_removed_special</th>\n",
       "      <th>text_tokenized</th>\n",
       "      <th>text_removed_stopwords</th>\n",
       "    </tr>\n",
       "  </thead>\n",
       "  <tbody>\n",
       "    <tr>\n",
       "      <th>0</th>\n",
       "      <td>Ex Wife Threatening SuicideRecently I left my ...</td>\n",
       "      <td>suicide</td>\n",
       "      <td>ex wife threatening suiciderecently i left my ...</td>\n",
       "      <td>ex wife threatening suiciderecently i left my ...</td>\n",
       "      <td>[ex, wife, threatening, suiciderecently, i, le...</td>\n",
       "      <td>[ex, wife, threatening, suiciderecently, left,...</td>\n",
       "    </tr>\n",
       "    <tr>\n",
       "      <th>1</th>\n",
       "      <td>Am I weird I don't get affected by compliments...</td>\n",
       "      <td>non-suicide</td>\n",
       "      <td>am i weird i don't get affected by compliments...</td>\n",
       "      <td>am i weird i dont get affected by compliments ...</td>\n",
       "      <td>[am, i, weird, i, dont, get, affected, by, com...</td>\n",
       "      <td>[weird, dont, get, affected, compliments, comi...</td>\n",
       "    </tr>\n",
       "    <tr>\n",
       "      <th>2</th>\n",
       "      <td>Finally 2020 is almost over... So I can never ...</td>\n",
       "      <td>non-suicide</td>\n",
       "      <td>finally 2020 is almost over... so i can never ...</td>\n",
       "      <td>finally 2020 is almost over so i can never hea...</td>\n",
       "      <td>[finally, 2020, is, almost, over, so, i, can, ...</td>\n",
       "      <td>[finally, 2020, almost, never, hear, 2020, bad...</td>\n",
       "    </tr>\n",
       "    <tr>\n",
       "      <th>3</th>\n",
       "      <td>i need helpjust help me im crying so hard</td>\n",
       "      <td>suicide</td>\n",
       "      <td>i need helpjust help me im crying so hard</td>\n",
       "      <td>i need helpjust help me im crying so hard</td>\n",
       "      <td>[i, need, helpjust, help, me, im, crying, so, ...</td>\n",
       "      <td>[need, helpjust, help, im, crying, hard]</td>\n",
       "    </tr>\n",
       "    <tr>\n",
       "      <th>4</th>\n",
       "      <td>I’m so lostHello, my name is Adam (16) and I’v...</td>\n",
       "      <td>suicide</td>\n",
       "      <td>i’m so losthello, my name is adam (16) and i’v...</td>\n",
       "      <td>im so losthello my name is adam 16 and ive bee...</td>\n",
       "      <td>[im, so, losthello, my, name, is, adam, 16, an...</td>\n",
       "      <td>[im, losthello, name, adam, 16, ive, strugglin...</td>\n",
       "    </tr>\n",
       "  </tbody>\n",
       "</table>\n",
       "</div>"
      ],
      "text/plain": [
       "                                                text        class  \\\n",
       "0  Ex Wife Threatening SuicideRecently I left my ...      suicide   \n",
       "1  Am I weird I don't get affected by compliments...  non-suicide   \n",
       "2  Finally 2020 is almost over... So I can never ...  non-suicide   \n",
       "3          i need helpjust help me im crying so hard      suicide   \n",
       "4  I’m so lostHello, my name is Adam (16) and I’v...      suicide   \n",
       "\n",
       "                                          text_lower  \\\n",
       "0  ex wife threatening suiciderecently i left my ...   \n",
       "1  am i weird i don't get affected by compliments...   \n",
       "2  finally 2020 is almost over... so i can never ...   \n",
       "3          i need helpjust help me im crying so hard   \n",
       "4  i’m so losthello, my name is adam (16) and i’v...   \n",
       "\n",
       "                                text_removed_special  \\\n",
       "0  ex wife threatening suiciderecently i left my ...   \n",
       "1  am i weird i dont get affected by compliments ...   \n",
       "2  finally 2020 is almost over so i can never hea...   \n",
       "3          i need helpjust help me im crying so hard   \n",
       "4  im so losthello my name is adam 16 and ive bee...   \n",
       "\n",
       "                                      text_tokenized  \\\n",
       "0  [ex, wife, threatening, suiciderecently, i, le...   \n",
       "1  [am, i, weird, i, dont, get, affected, by, com...   \n",
       "2  [finally, 2020, is, almost, over, so, i, can, ...   \n",
       "3  [i, need, helpjust, help, me, im, crying, so, ...   \n",
       "4  [im, so, losthello, my, name, is, adam, 16, an...   \n",
       "\n",
       "                              text_removed_stopwords  \n",
       "0  [ex, wife, threatening, suiciderecently, left,...  \n",
       "1  [weird, dont, get, affected, compliments, comi...  \n",
       "2  [finally, 2020, almost, never, hear, 2020, bad...  \n",
       "3           [need, helpjust, help, im, crying, hard]  \n",
       "4  [im, losthello, name, adam, 16, ive, strugglin...  "
      ]
     },
     "execution_count": 21,
     "metadata": {},
     "output_type": "execute_result"
    }
   ],
   "source": [
    "df.head()"
   ]
  },
  {
   "cell_type": "code",
   "execution_count": 22,
   "id": "87e26877",
   "metadata": {},
   "outputs": [
    {
     "name": "stderr",
     "output_type": "stream",
     "text": [
      "[nltk_data] Downloading package wordnet to\n",
      "[nltk_data]     C:\\Users\\adity\\AppData\\Roaming\\nltk_data...\n",
      "[nltk_data]   Package wordnet is already up-to-date!\n"
     ]
    }
   ],
   "source": [
    "from nltk.stem import WordNetLemmatizer\n",
    "nltk.download('wordnet')\n",
    "lemmatizer = WordNetLemmatizer()"
   ]
  },
  {
   "cell_type": "code",
   "execution_count": 23,
   "id": "675953e7",
   "metadata": {},
   "outputs": [],
   "source": [
    "df['text_lemmatized'] = df['text_removed_stopwords'].apply(lambda tokens: [lemmatizer.lemmatize(token) for token in tokens])"
   ]
  },
  {
   "cell_type": "code",
   "execution_count": 24,
   "id": "b27488a8",
   "metadata": {},
   "outputs": [
    {
     "data": {
      "text/html": [
       "<div>\n",
       "<style scoped>\n",
       "    .dataframe tbody tr th:only-of-type {\n",
       "        vertical-align: middle;\n",
       "    }\n",
       "\n",
       "    .dataframe tbody tr th {\n",
       "        vertical-align: top;\n",
       "    }\n",
       "\n",
       "    .dataframe thead th {\n",
       "        text-align: right;\n",
       "    }\n",
       "</style>\n",
       "<table border=\"1\" class=\"dataframe\">\n",
       "  <thead>\n",
       "    <tr style=\"text-align: right;\">\n",
       "      <th></th>\n",
       "      <th>text</th>\n",
       "      <th>class</th>\n",
       "      <th>text_lower</th>\n",
       "      <th>text_removed_special</th>\n",
       "      <th>text_tokenized</th>\n",
       "      <th>text_removed_stopwords</th>\n",
       "      <th>text_lemmatized</th>\n",
       "    </tr>\n",
       "  </thead>\n",
       "  <tbody>\n",
       "    <tr>\n",
       "      <th>0</th>\n",
       "      <td>Ex Wife Threatening SuicideRecently I left my ...</td>\n",
       "      <td>suicide</td>\n",
       "      <td>ex wife threatening suiciderecently i left my ...</td>\n",
       "      <td>ex wife threatening suiciderecently i left my ...</td>\n",
       "      <td>[ex, wife, threatening, suiciderecently, i, le...</td>\n",
       "      <td>[ex, wife, threatening, suiciderecently, left,...</td>\n",
       "      <td>[ex, wife, threatening, suiciderecently, left,...</td>\n",
       "    </tr>\n",
       "    <tr>\n",
       "      <th>1</th>\n",
       "      <td>Am I weird I don't get affected by compliments...</td>\n",
       "      <td>non-suicide</td>\n",
       "      <td>am i weird i don't get affected by compliments...</td>\n",
       "      <td>am i weird i dont get affected by compliments ...</td>\n",
       "      <td>[am, i, weird, i, dont, get, affected, by, com...</td>\n",
       "      <td>[weird, dont, get, affected, compliments, comi...</td>\n",
       "      <td>[weird, dont, get, affected, compliment, comin...</td>\n",
       "    </tr>\n",
       "    <tr>\n",
       "      <th>2</th>\n",
       "      <td>Finally 2020 is almost over... So I can never ...</td>\n",
       "      <td>non-suicide</td>\n",
       "      <td>finally 2020 is almost over... so i can never ...</td>\n",
       "      <td>finally 2020 is almost over so i can never hea...</td>\n",
       "      <td>[finally, 2020, is, almost, over, so, i, can, ...</td>\n",
       "      <td>[finally, 2020, almost, never, hear, 2020, bad...</td>\n",
       "      <td>[finally, 2020, almost, never, hear, 2020, bad...</td>\n",
       "    </tr>\n",
       "    <tr>\n",
       "      <th>3</th>\n",
       "      <td>i need helpjust help me im crying so hard</td>\n",
       "      <td>suicide</td>\n",
       "      <td>i need helpjust help me im crying so hard</td>\n",
       "      <td>i need helpjust help me im crying so hard</td>\n",
       "      <td>[i, need, helpjust, help, me, im, crying, so, ...</td>\n",
       "      <td>[need, helpjust, help, im, crying, hard]</td>\n",
       "      <td>[need, helpjust, help, im, cry, hard]</td>\n",
       "    </tr>\n",
       "    <tr>\n",
       "      <th>4</th>\n",
       "      <td>I’m so lostHello, my name is Adam (16) and I’v...</td>\n",
       "      <td>suicide</td>\n",
       "      <td>i’m so losthello, my name is adam (16) and i’v...</td>\n",
       "      <td>im so losthello my name is adam 16 and ive bee...</td>\n",
       "      <td>[im, so, losthello, my, name, is, adam, 16, an...</td>\n",
       "      <td>[im, losthello, name, adam, 16, ive, strugglin...</td>\n",
       "      <td>[im, losthello, name, adam, 16, ive, strugglin...</td>\n",
       "    </tr>\n",
       "  </tbody>\n",
       "</table>\n",
       "</div>"
      ],
      "text/plain": [
       "                                                text        class  \\\n",
       "0  Ex Wife Threatening SuicideRecently I left my ...      suicide   \n",
       "1  Am I weird I don't get affected by compliments...  non-suicide   \n",
       "2  Finally 2020 is almost over... So I can never ...  non-suicide   \n",
       "3          i need helpjust help me im crying so hard      suicide   \n",
       "4  I’m so lostHello, my name is Adam (16) and I’v...      suicide   \n",
       "\n",
       "                                          text_lower  \\\n",
       "0  ex wife threatening suiciderecently i left my ...   \n",
       "1  am i weird i don't get affected by compliments...   \n",
       "2  finally 2020 is almost over... so i can never ...   \n",
       "3          i need helpjust help me im crying so hard   \n",
       "4  i’m so losthello, my name is adam (16) and i’v...   \n",
       "\n",
       "                                text_removed_special  \\\n",
       "0  ex wife threatening suiciderecently i left my ...   \n",
       "1  am i weird i dont get affected by compliments ...   \n",
       "2  finally 2020 is almost over so i can never hea...   \n",
       "3          i need helpjust help me im crying so hard   \n",
       "4  im so losthello my name is adam 16 and ive bee...   \n",
       "\n",
       "                                      text_tokenized  \\\n",
       "0  [ex, wife, threatening, suiciderecently, i, le...   \n",
       "1  [am, i, weird, i, dont, get, affected, by, com...   \n",
       "2  [finally, 2020, is, almost, over, so, i, can, ...   \n",
       "3  [i, need, helpjust, help, me, im, crying, so, ...   \n",
       "4  [im, so, losthello, my, name, is, adam, 16, an...   \n",
       "\n",
       "                              text_removed_stopwords  \\\n",
       "0  [ex, wife, threatening, suiciderecently, left,...   \n",
       "1  [weird, dont, get, affected, compliments, comi...   \n",
       "2  [finally, 2020, almost, never, hear, 2020, bad...   \n",
       "3           [need, helpjust, help, im, crying, hard]   \n",
       "4  [im, losthello, name, adam, 16, ive, strugglin...   \n",
       "\n",
       "                                     text_lemmatized  \n",
       "0  [ex, wife, threatening, suiciderecently, left,...  \n",
       "1  [weird, dont, get, affected, compliment, comin...  \n",
       "2  [finally, 2020, almost, never, hear, 2020, bad...  \n",
       "3              [need, helpjust, help, im, cry, hard]  \n",
       "4  [im, losthello, name, adam, 16, ive, strugglin...  "
      ]
     },
     "execution_count": 24,
     "metadata": {},
     "output_type": "execute_result"
    }
   ],
   "source": [
    "df.head()"
   ]
  },
  {
   "cell_type": "code",
   "execution_count": 25,
   "id": "cd5d7667",
   "metadata": {},
   "outputs": [],
   "source": [
    "from nltk.stem import PorterStemmer\n",
    "stemmer = PorterStemmer()"
   ]
  },
  {
   "cell_type": "code",
   "execution_count": 26,
   "id": "42cdb8ca",
   "metadata": {},
   "outputs": [],
   "source": [
    "df['text_stemmed'] = df['text_lemmatized'].apply(lambda tokens: [stemmer.stem(token) for token in tokens])"
   ]
  },
  {
   "cell_type": "code",
   "execution_count": 27,
   "id": "7c7be67e",
   "metadata": {},
   "outputs": [
    {
     "data": {
      "text/html": [
       "<div>\n",
       "<style scoped>\n",
       "    .dataframe tbody tr th:only-of-type {\n",
       "        vertical-align: middle;\n",
       "    }\n",
       "\n",
       "    .dataframe tbody tr th {\n",
       "        vertical-align: top;\n",
       "    }\n",
       "\n",
       "    .dataframe thead th {\n",
       "        text-align: right;\n",
       "    }\n",
       "</style>\n",
       "<table border=\"1\" class=\"dataframe\">\n",
       "  <thead>\n",
       "    <tr style=\"text-align: right;\">\n",
       "      <th></th>\n",
       "      <th>text</th>\n",
       "      <th>class</th>\n",
       "      <th>text_lower</th>\n",
       "      <th>text_removed_special</th>\n",
       "      <th>text_tokenized</th>\n",
       "      <th>text_removed_stopwords</th>\n",
       "      <th>text_lemmatized</th>\n",
       "      <th>text_stemmed</th>\n",
       "    </tr>\n",
       "  </thead>\n",
       "  <tbody>\n",
       "    <tr>\n",
       "      <th>0</th>\n",
       "      <td>Ex Wife Threatening SuicideRecently I left my ...</td>\n",
       "      <td>suicide</td>\n",
       "      <td>ex wife threatening suiciderecently i left my ...</td>\n",
       "      <td>ex wife threatening suiciderecently i left my ...</td>\n",
       "      <td>[ex, wife, threatening, suiciderecently, i, le...</td>\n",
       "      <td>[ex, wife, threatening, suiciderecently, left,...</td>\n",
       "      <td>[ex, wife, threatening, suiciderecently, left,...</td>\n",
       "      <td>[ex, wife, threaten, suiciderec, left, wife, g...</td>\n",
       "    </tr>\n",
       "    <tr>\n",
       "      <th>1</th>\n",
       "      <td>Am I weird I don't get affected by compliments...</td>\n",
       "      <td>non-suicide</td>\n",
       "      <td>am i weird i don't get affected by compliments...</td>\n",
       "      <td>am i weird i dont get affected by compliments ...</td>\n",
       "      <td>[am, i, weird, i, dont, get, affected, by, com...</td>\n",
       "      <td>[weird, dont, get, affected, compliments, comi...</td>\n",
       "      <td>[weird, dont, get, affected, compliment, comin...</td>\n",
       "      <td>[weird, dont, get, affect, compliment, come, s...</td>\n",
       "    </tr>\n",
       "    <tr>\n",
       "      <th>2</th>\n",
       "      <td>Finally 2020 is almost over... So I can never ...</td>\n",
       "      <td>non-suicide</td>\n",
       "      <td>finally 2020 is almost over... so i can never ...</td>\n",
       "      <td>finally 2020 is almost over so i can never hea...</td>\n",
       "      <td>[finally, 2020, is, almost, over, so, i, can, ...</td>\n",
       "      <td>[finally, 2020, almost, never, hear, 2020, bad...</td>\n",
       "      <td>[finally, 2020, almost, never, hear, 2020, bad...</td>\n",
       "      <td>[final, 2020, almost, never, hear, 2020, bad, ...</td>\n",
       "    </tr>\n",
       "    <tr>\n",
       "      <th>3</th>\n",
       "      <td>i need helpjust help me im crying so hard</td>\n",
       "      <td>suicide</td>\n",
       "      <td>i need helpjust help me im crying so hard</td>\n",
       "      <td>i need helpjust help me im crying so hard</td>\n",
       "      <td>[i, need, helpjust, help, me, im, crying, so, ...</td>\n",
       "      <td>[need, helpjust, help, im, crying, hard]</td>\n",
       "      <td>[need, helpjust, help, im, cry, hard]</td>\n",
       "      <td>[need, helpjust, help, im, cri, hard]</td>\n",
       "    </tr>\n",
       "    <tr>\n",
       "      <th>4</th>\n",
       "      <td>I’m so lostHello, my name is Adam (16) and I’v...</td>\n",
       "      <td>suicide</td>\n",
       "      <td>i’m so losthello, my name is adam (16) and i’v...</td>\n",
       "      <td>im so losthello my name is adam 16 and ive bee...</td>\n",
       "      <td>[im, so, losthello, my, name, is, adam, 16, an...</td>\n",
       "      <td>[im, losthello, name, adam, 16, ive, strugglin...</td>\n",
       "      <td>[im, losthello, name, adam, 16, ive, strugglin...</td>\n",
       "      <td>[im, losthello, name, adam, 16, ive, struggl, ...</td>\n",
       "    </tr>\n",
       "  </tbody>\n",
       "</table>\n",
       "</div>"
      ],
      "text/plain": [
       "                                                text        class  \\\n",
       "0  Ex Wife Threatening SuicideRecently I left my ...      suicide   \n",
       "1  Am I weird I don't get affected by compliments...  non-suicide   \n",
       "2  Finally 2020 is almost over... So I can never ...  non-suicide   \n",
       "3          i need helpjust help me im crying so hard      suicide   \n",
       "4  I’m so lostHello, my name is Adam (16) and I’v...      suicide   \n",
       "\n",
       "                                          text_lower  \\\n",
       "0  ex wife threatening suiciderecently i left my ...   \n",
       "1  am i weird i don't get affected by compliments...   \n",
       "2  finally 2020 is almost over... so i can never ...   \n",
       "3          i need helpjust help me im crying so hard   \n",
       "4  i’m so losthello, my name is adam (16) and i’v...   \n",
       "\n",
       "                                text_removed_special  \\\n",
       "0  ex wife threatening suiciderecently i left my ...   \n",
       "1  am i weird i dont get affected by compliments ...   \n",
       "2  finally 2020 is almost over so i can never hea...   \n",
       "3          i need helpjust help me im crying so hard   \n",
       "4  im so losthello my name is adam 16 and ive bee...   \n",
       "\n",
       "                                      text_tokenized  \\\n",
       "0  [ex, wife, threatening, suiciderecently, i, le...   \n",
       "1  [am, i, weird, i, dont, get, affected, by, com...   \n",
       "2  [finally, 2020, is, almost, over, so, i, can, ...   \n",
       "3  [i, need, helpjust, help, me, im, crying, so, ...   \n",
       "4  [im, so, losthello, my, name, is, adam, 16, an...   \n",
       "\n",
       "                              text_removed_stopwords  \\\n",
       "0  [ex, wife, threatening, suiciderecently, left,...   \n",
       "1  [weird, dont, get, affected, compliments, comi...   \n",
       "2  [finally, 2020, almost, never, hear, 2020, bad...   \n",
       "3           [need, helpjust, help, im, crying, hard]   \n",
       "4  [im, losthello, name, adam, 16, ive, strugglin...   \n",
       "\n",
       "                                     text_lemmatized  \\\n",
       "0  [ex, wife, threatening, suiciderecently, left,...   \n",
       "1  [weird, dont, get, affected, compliment, comin...   \n",
       "2  [finally, 2020, almost, never, hear, 2020, bad...   \n",
       "3              [need, helpjust, help, im, cry, hard]   \n",
       "4  [im, losthello, name, adam, 16, ive, strugglin...   \n",
       "\n",
       "                                        text_stemmed  \n",
       "0  [ex, wife, threaten, suiciderec, left, wife, g...  \n",
       "1  [weird, dont, get, affect, compliment, come, s...  \n",
       "2  [final, 2020, almost, never, hear, 2020, bad, ...  \n",
       "3              [need, helpjust, help, im, cri, hard]  \n",
       "4  [im, losthello, name, adam, 16, ive, struggl, ...  "
      ]
     },
     "execution_count": 27,
     "metadata": {},
     "output_type": "execute_result"
    }
   ],
   "source": [
    "df.head()"
   ]
  },
  {
   "cell_type": "code",
   "execution_count": 28,
   "id": "fe02c2c1",
   "metadata": {},
   "outputs": [],
   "source": [
    "df['text_stemmed_1'] = df['text_stemmed'].apply(lambda x: ' '.join(x))"
   ]
  },
  {
   "cell_type": "code",
   "execution_count": 29,
   "id": "76971d11",
   "metadata": {},
   "outputs": [
    {
     "data": {
      "text/html": [
       "<div>\n",
       "<style scoped>\n",
       "    .dataframe tbody tr th:only-of-type {\n",
       "        vertical-align: middle;\n",
       "    }\n",
       "\n",
       "    .dataframe tbody tr th {\n",
       "        vertical-align: top;\n",
       "    }\n",
       "\n",
       "    .dataframe thead th {\n",
       "        text-align: right;\n",
       "    }\n",
       "</style>\n",
       "<table border=\"1\" class=\"dataframe\">\n",
       "  <thead>\n",
       "    <tr style=\"text-align: right;\">\n",
       "      <th></th>\n",
       "      <th>text</th>\n",
       "      <th>class</th>\n",
       "      <th>text_lower</th>\n",
       "      <th>text_removed_special</th>\n",
       "      <th>text_tokenized</th>\n",
       "      <th>text_removed_stopwords</th>\n",
       "      <th>text_lemmatized</th>\n",
       "      <th>text_stemmed</th>\n",
       "      <th>text_stemmed_1</th>\n",
       "    </tr>\n",
       "  </thead>\n",
       "  <tbody>\n",
       "    <tr>\n",
       "      <th>0</th>\n",
       "      <td>Ex Wife Threatening SuicideRecently I left my ...</td>\n",
       "      <td>suicide</td>\n",
       "      <td>ex wife threatening suiciderecently i left my ...</td>\n",
       "      <td>ex wife threatening suiciderecently i left my ...</td>\n",
       "      <td>[ex, wife, threatening, suiciderecently, i, le...</td>\n",
       "      <td>[ex, wife, threatening, suiciderecently, left,...</td>\n",
       "      <td>[ex, wife, threatening, suiciderecently, left,...</td>\n",
       "      <td>[ex, wife, threaten, suiciderec, left, wife, g...</td>\n",
       "      <td>ex wife threaten suiciderec left wife good che...</td>\n",
       "    </tr>\n",
       "    <tr>\n",
       "      <th>1</th>\n",
       "      <td>Am I weird I don't get affected by compliments...</td>\n",
       "      <td>non-suicide</td>\n",
       "      <td>am i weird i don't get affected by compliments...</td>\n",
       "      <td>am i weird i dont get affected by compliments ...</td>\n",
       "      <td>[am, i, weird, i, dont, get, affected, by, com...</td>\n",
       "      <td>[weird, dont, get, affected, compliments, comi...</td>\n",
       "      <td>[weird, dont, get, affected, compliment, comin...</td>\n",
       "      <td>[weird, dont, get, affect, compliment, come, s...</td>\n",
       "      <td>weird dont get affect compliment come someon k...</td>\n",
       "    </tr>\n",
       "    <tr>\n",
       "      <th>2</th>\n",
       "      <td>Finally 2020 is almost over... So I can never ...</td>\n",
       "      <td>non-suicide</td>\n",
       "      <td>finally 2020 is almost over... so i can never ...</td>\n",
       "      <td>finally 2020 is almost over so i can never hea...</td>\n",
       "      <td>[finally, 2020, is, almost, over, so, i, can, ...</td>\n",
       "      <td>[finally, 2020, almost, never, hear, 2020, bad...</td>\n",
       "      <td>[finally, 2020, almost, never, hear, 2020, bad...</td>\n",
       "      <td>[final, 2020, almost, never, hear, 2020, bad, ...</td>\n",
       "      <td>final 2020 almost never hear 2020 bad year eve...</td>\n",
       "    </tr>\n",
       "    <tr>\n",
       "      <th>3</th>\n",
       "      <td>i need helpjust help me im crying so hard</td>\n",
       "      <td>suicide</td>\n",
       "      <td>i need helpjust help me im crying so hard</td>\n",
       "      <td>i need helpjust help me im crying so hard</td>\n",
       "      <td>[i, need, helpjust, help, me, im, crying, so, ...</td>\n",
       "      <td>[need, helpjust, help, im, crying, hard]</td>\n",
       "      <td>[need, helpjust, help, im, cry, hard]</td>\n",
       "      <td>[need, helpjust, help, im, cri, hard]</td>\n",
       "      <td>need helpjust help im cri hard</td>\n",
       "    </tr>\n",
       "    <tr>\n",
       "      <th>4</th>\n",
       "      <td>I’m so lostHello, my name is Adam (16) and I’v...</td>\n",
       "      <td>suicide</td>\n",
       "      <td>i’m so losthello, my name is adam (16) and i’v...</td>\n",
       "      <td>im so losthello my name is adam 16 and ive bee...</td>\n",
       "      <td>[im, so, losthello, my, name, is, adam, 16, an...</td>\n",
       "      <td>[im, losthello, name, adam, 16, ive, strugglin...</td>\n",
       "      <td>[im, losthello, name, adam, 16, ive, strugglin...</td>\n",
       "      <td>[im, losthello, name, adam, 16, ive, struggl, ...</td>\n",
       "      <td>im losthello name adam 16 ive struggl year im ...</td>\n",
       "    </tr>\n",
       "  </tbody>\n",
       "</table>\n",
       "</div>"
      ],
      "text/plain": [
       "                                                text        class  \\\n",
       "0  Ex Wife Threatening SuicideRecently I left my ...      suicide   \n",
       "1  Am I weird I don't get affected by compliments...  non-suicide   \n",
       "2  Finally 2020 is almost over... So I can never ...  non-suicide   \n",
       "3          i need helpjust help me im crying so hard      suicide   \n",
       "4  I’m so lostHello, my name is Adam (16) and I’v...      suicide   \n",
       "\n",
       "                                          text_lower  \\\n",
       "0  ex wife threatening suiciderecently i left my ...   \n",
       "1  am i weird i don't get affected by compliments...   \n",
       "2  finally 2020 is almost over... so i can never ...   \n",
       "3          i need helpjust help me im crying so hard   \n",
       "4  i’m so losthello, my name is adam (16) and i’v...   \n",
       "\n",
       "                                text_removed_special  \\\n",
       "0  ex wife threatening suiciderecently i left my ...   \n",
       "1  am i weird i dont get affected by compliments ...   \n",
       "2  finally 2020 is almost over so i can never hea...   \n",
       "3          i need helpjust help me im crying so hard   \n",
       "4  im so losthello my name is adam 16 and ive bee...   \n",
       "\n",
       "                                      text_tokenized  \\\n",
       "0  [ex, wife, threatening, suiciderecently, i, le...   \n",
       "1  [am, i, weird, i, dont, get, affected, by, com...   \n",
       "2  [finally, 2020, is, almost, over, so, i, can, ...   \n",
       "3  [i, need, helpjust, help, me, im, crying, so, ...   \n",
       "4  [im, so, losthello, my, name, is, adam, 16, an...   \n",
       "\n",
       "                              text_removed_stopwords  \\\n",
       "0  [ex, wife, threatening, suiciderecently, left,...   \n",
       "1  [weird, dont, get, affected, compliments, comi...   \n",
       "2  [finally, 2020, almost, never, hear, 2020, bad...   \n",
       "3           [need, helpjust, help, im, crying, hard]   \n",
       "4  [im, losthello, name, adam, 16, ive, strugglin...   \n",
       "\n",
       "                                     text_lemmatized  \\\n",
       "0  [ex, wife, threatening, suiciderecently, left,...   \n",
       "1  [weird, dont, get, affected, compliment, comin...   \n",
       "2  [finally, 2020, almost, never, hear, 2020, bad...   \n",
       "3              [need, helpjust, help, im, cry, hard]   \n",
       "4  [im, losthello, name, adam, 16, ive, strugglin...   \n",
       "\n",
       "                                        text_stemmed  \\\n",
       "0  [ex, wife, threaten, suiciderec, left, wife, g...   \n",
       "1  [weird, dont, get, affect, compliment, come, s...   \n",
       "2  [final, 2020, almost, never, hear, 2020, bad, ...   \n",
       "3              [need, helpjust, help, im, cri, hard]   \n",
       "4  [im, losthello, name, adam, 16, ive, struggl, ...   \n",
       "\n",
       "                                      text_stemmed_1  \n",
       "0  ex wife threaten suiciderec left wife good che...  \n",
       "1  weird dont get affect compliment come someon k...  \n",
       "2  final 2020 almost never hear 2020 bad year eve...  \n",
       "3                     need helpjust help im cri hard  \n",
       "4  im losthello name adam 16 ive struggl year im ...  "
      ]
     },
     "execution_count": 29,
     "metadata": {},
     "output_type": "execute_result"
    }
   ],
   "source": [
    "df.head()"
   ]
  },
  {
   "cell_type": "code",
   "execution_count": 30,
   "id": "77b4864a",
   "metadata": {},
   "outputs": [],
   "source": [
    "mapping = {'suicide': 1, 'non-suicide': 0}\n",
    "df['sentiment'] = df['class'].map(mapping)"
   ]
  },
  {
   "cell_type": "code",
   "execution_count": 31,
   "id": "ed833a45",
   "metadata": {
    "scrolled": true
   },
   "outputs": [
    {
     "data": {
      "text/html": [
       "<div>\n",
       "<style scoped>\n",
       "    .dataframe tbody tr th:only-of-type {\n",
       "        vertical-align: middle;\n",
       "    }\n",
       "\n",
       "    .dataframe tbody tr th {\n",
       "        vertical-align: top;\n",
       "    }\n",
       "\n",
       "    .dataframe thead th {\n",
       "        text-align: right;\n",
       "    }\n",
       "</style>\n",
       "<table border=\"1\" class=\"dataframe\">\n",
       "  <thead>\n",
       "    <tr style=\"text-align: right;\">\n",
       "      <th></th>\n",
       "      <th>text</th>\n",
       "      <th>class</th>\n",
       "      <th>text_lower</th>\n",
       "      <th>text_removed_special</th>\n",
       "      <th>text_tokenized</th>\n",
       "      <th>text_removed_stopwords</th>\n",
       "      <th>text_lemmatized</th>\n",
       "      <th>text_stemmed</th>\n",
       "      <th>text_stemmed_1</th>\n",
       "      <th>sentiment</th>\n",
       "    </tr>\n",
       "  </thead>\n",
       "  <tbody>\n",
       "    <tr>\n",
       "      <th>0</th>\n",
       "      <td>Ex Wife Threatening SuicideRecently I left my ...</td>\n",
       "      <td>suicide</td>\n",
       "      <td>ex wife threatening suiciderecently i left my ...</td>\n",
       "      <td>ex wife threatening suiciderecently i left my ...</td>\n",
       "      <td>[ex, wife, threatening, suiciderecently, i, le...</td>\n",
       "      <td>[ex, wife, threatening, suiciderecently, left,...</td>\n",
       "      <td>[ex, wife, threatening, suiciderecently, left,...</td>\n",
       "      <td>[ex, wife, threaten, suiciderec, left, wife, g...</td>\n",
       "      <td>ex wife threaten suiciderec left wife good che...</td>\n",
       "      <td>1</td>\n",
       "    </tr>\n",
       "    <tr>\n",
       "      <th>1</th>\n",
       "      <td>Am I weird I don't get affected by compliments...</td>\n",
       "      <td>non-suicide</td>\n",
       "      <td>am i weird i don't get affected by compliments...</td>\n",
       "      <td>am i weird i dont get affected by compliments ...</td>\n",
       "      <td>[am, i, weird, i, dont, get, affected, by, com...</td>\n",
       "      <td>[weird, dont, get, affected, compliments, comi...</td>\n",
       "      <td>[weird, dont, get, affected, compliment, comin...</td>\n",
       "      <td>[weird, dont, get, affect, compliment, come, s...</td>\n",
       "      <td>weird dont get affect compliment come someon k...</td>\n",
       "      <td>0</td>\n",
       "    </tr>\n",
       "    <tr>\n",
       "      <th>2</th>\n",
       "      <td>Finally 2020 is almost over... So I can never ...</td>\n",
       "      <td>non-suicide</td>\n",
       "      <td>finally 2020 is almost over... so i can never ...</td>\n",
       "      <td>finally 2020 is almost over so i can never hea...</td>\n",
       "      <td>[finally, 2020, is, almost, over, so, i, can, ...</td>\n",
       "      <td>[finally, 2020, almost, never, hear, 2020, bad...</td>\n",
       "      <td>[finally, 2020, almost, never, hear, 2020, bad...</td>\n",
       "      <td>[final, 2020, almost, never, hear, 2020, bad, ...</td>\n",
       "      <td>final 2020 almost never hear 2020 bad year eve...</td>\n",
       "      <td>0</td>\n",
       "    </tr>\n",
       "    <tr>\n",
       "      <th>3</th>\n",
       "      <td>i need helpjust help me im crying so hard</td>\n",
       "      <td>suicide</td>\n",
       "      <td>i need helpjust help me im crying so hard</td>\n",
       "      <td>i need helpjust help me im crying so hard</td>\n",
       "      <td>[i, need, helpjust, help, me, im, crying, so, ...</td>\n",
       "      <td>[need, helpjust, help, im, crying, hard]</td>\n",
       "      <td>[need, helpjust, help, im, cry, hard]</td>\n",
       "      <td>[need, helpjust, help, im, cri, hard]</td>\n",
       "      <td>need helpjust help im cri hard</td>\n",
       "      <td>1</td>\n",
       "    </tr>\n",
       "    <tr>\n",
       "      <th>4</th>\n",
       "      <td>I’m so lostHello, my name is Adam (16) and I’v...</td>\n",
       "      <td>suicide</td>\n",
       "      <td>i’m so losthello, my name is adam (16) and i’v...</td>\n",
       "      <td>im so losthello my name is adam 16 and ive bee...</td>\n",
       "      <td>[im, so, losthello, my, name, is, adam, 16, an...</td>\n",
       "      <td>[im, losthello, name, adam, 16, ive, strugglin...</td>\n",
       "      <td>[im, losthello, name, adam, 16, ive, strugglin...</td>\n",
       "      <td>[im, losthello, name, adam, 16, ive, struggl, ...</td>\n",
       "      <td>im losthello name adam 16 ive struggl year im ...</td>\n",
       "      <td>1</td>\n",
       "    </tr>\n",
       "  </tbody>\n",
       "</table>\n",
       "</div>"
      ],
      "text/plain": [
       "                                                text        class  \\\n",
       "0  Ex Wife Threatening SuicideRecently I left my ...      suicide   \n",
       "1  Am I weird I don't get affected by compliments...  non-suicide   \n",
       "2  Finally 2020 is almost over... So I can never ...  non-suicide   \n",
       "3          i need helpjust help me im crying so hard      suicide   \n",
       "4  I’m so lostHello, my name is Adam (16) and I’v...      suicide   \n",
       "\n",
       "                                          text_lower  \\\n",
       "0  ex wife threatening suiciderecently i left my ...   \n",
       "1  am i weird i don't get affected by compliments...   \n",
       "2  finally 2020 is almost over... so i can never ...   \n",
       "3          i need helpjust help me im crying so hard   \n",
       "4  i’m so losthello, my name is adam (16) and i’v...   \n",
       "\n",
       "                                text_removed_special  \\\n",
       "0  ex wife threatening suiciderecently i left my ...   \n",
       "1  am i weird i dont get affected by compliments ...   \n",
       "2  finally 2020 is almost over so i can never hea...   \n",
       "3          i need helpjust help me im crying so hard   \n",
       "4  im so losthello my name is adam 16 and ive bee...   \n",
       "\n",
       "                                      text_tokenized  \\\n",
       "0  [ex, wife, threatening, suiciderecently, i, le...   \n",
       "1  [am, i, weird, i, dont, get, affected, by, com...   \n",
       "2  [finally, 2020, is, almost, over, so, i, can, ...   \n",
       "3  [i, need, helpjust, help, me, im, crying, so, ...   \n",
       "4  [im, so, losthello, my, name, is, adam, 16, an...   \n",
       "\n",
       "                              text_removed_stopwords  \\\n",
       "0  [ex, wife, threatening, suiciderecently, left,...   \n",
       "1  [weird, dont, get, affected, compliments, comi...   \n",
       "2  [finally, 2020, almost, never, hear, 2020, bad...   \n",
       "3           [need, helpjust, help, im, crying, hard]   \n",
       "4  [im, losthello, name, adam, 16, ive, strugglin...   \n",
       "\n",
       "                                     text_lemmatized  \\\n",
       "0  [ex, wife, threatening, suiciderecently, left,...   \n",
       "1  [weird, dont, get, affected, compliment, comin...   \n",
       "2  [finally, 2020, almost, never, hear, 2020, bad...   \n",
       "3              [need, helpjust, help, im, cry, hard]   \n",
       "4  [im, losthello, name, adam, 16, ive, strugglin...   \n",
       "\n",
       "                                        text_stemmed  \\\n",
       "0  [ex, wife, threaten, suiciderec, left, wife, g...   \n",
       "1  [weird, dont, get, affect, compliment, come, s...   \n",
       "2  [final, 2020, almost, never, hear, 2020, bad, ...   \n",
       "3              [need, helpjust, help, im, cri, hard]   \n",
       "4  [im, losthello, name, adam, 16, ive, struggl, ...   \n",
       "\n",
       "                                      text_stemmed_1  sentiment  \n",
       "0  ex wife threaten suiciderec left wife good che...          1  \n",
       "1  weird dont get affect compliment come someon k...          0  \n",
       "2  final 2020 almost never hear 2020 bad year eve...          0  \n",
       "3                     need helpjust help im cri hard          1  \n",
       "4  im losthello name adam 16 ive struggl year im ...          1  "
      ]
     },
     "execution_count": 31,
     "metadata": {},
     "output_type": "execute_result"
    }
   ],
   "source": [
    "df.head()"
   ]
  },
  {
   "cell_type": "code",
   "execution_count": 33,
   "id": "c82953ff",
   "metadata": {},
   "outputs": [],
   "source": [
    "df1=df[['sentiment','text_stemmed_1']]"
   ]
  },
  {
   "cell_type": "code",
   "execution_count": 35,
   "id": "6066b59d",
   "metadata": {},
   "outputs": [
    {
     "data": {
      "text/html": [
       "<div>\n",
       "<style scoped>\n",
       "    .dataframe tbody tr th:only-of-type {\n",
       "        vertical-align: middle;\n",
       "    }\n",
       "\n",
       "    .dataframe tbody tr th {\n",
       "        vertical-align: top;\n",
       "    }\n",
       "\n",
       "    .dataframe thead th {\n",
       "        text-align: right;\n",
       "    }\n",
       "</style>\n",
       "<table border=\"1\" class=\"dataframe\">\n",
       "  <thead>\n",
       "    <tr style=\"text-align: right;\">\n",
       "      <th></th>\n",
       "      <th>sentiment</th>\n",
       "      <th>text_stemmed_1</th>\n",
       "    </tr>\n",
       "  </thead>\n",
       "  <tbody>\n",
       "    <tr>\n",
       "      <th>0</th>\n",
       "      <td>1</td>\n",
       "      <td>ex wife threaten suiciderec left wife good che...</td>\n",
       "    </tr>\n",
       "    <tr>\n",
       "      <th>1</th>\n",
       "      <td>0</td>\n",
       "      <td>weird dont get affect compliment come someon k...</td>\n",
       "    </tr>\n",
       "    <tr>\n",
       "      <th>2</th>\n",
       "      <td>0</td>\n",
       "      <td>final 2020 almost never hear 2020 bad year eve...</td>\n",
       "    </tr>\n",
       "    <tr>\n",
       "      <th>3</th>\n",
       "      <td>1</td>\n",
       "      <td>need helpjust help im cri hard</td>\n",
       "    </tr>\n",
       "    <tr>\n",
       "      <th>4</th>\n",
       "      <td>1</td>\n",
       "      <td>im losthello name adam 16 ive struggl year im ...</td>\n",
       "    </tr>\n",
       "  </tbody>\n",
       "</table>\n",
       "</div>"
      ],
      "text/plain": [
       "   sentiment                                     text_stemmed_1\n",
       "0          1  ex wife threaten suiciderec left wife good che...\n",
       "1          0  weird dont get affect compliment come someon k...\n",
       "2          0  final 2020 almost never hear 2020 bad year eve...\n",
       "3          1                     need helpjust help im cri hard\n",
       "4          1  im losthello name adam 16 ive struggl year im ..."
      ]
     },
     "execution_count": 35,
     "metadata": {},
     "output_type": "execute_result"
    }
   ],
   "source": [
    "df1.head()"
   ]
  },
  {
   "cell_type": "code",
   "execution_count": 59,
   "id": "81901177",
   "metadata": {},
   "outputs": [],
   "source": [
    "from sklearn.model_selection import train_test_split\n",
    "from sklearn.metrics import accuracy_score,classification_report\n",
    "from sklearn.linear_model import LogisticRegression\n",
    "from sklearn.naive_bayes import MultinomialNB"
   ]
  },
  {
   "cell_type": "code",
   "execution_count": 65,
   "id": "667fda1c",
   "metadata": {},
   "outputs": [],
   "source": [
    "def logistic_regression_func(X_train, X_test, y_train, y_test):\n",
    "    classifier = LogisticRegression()\n",
    "    classifier.fit(X_train, y_train)\n",
    "    y_pred = classifier.predict(X_test)\n",
    "    return y_pred"
   ]
  },
  {
   "cell_type": "code",
   "execution_count": 66,
   "id": "fed3fa42",
   "metadata": {},
   "outputs": [],
   "source": [
    "def naive_bayes_func(X_train, X_test, y_train, y_test):\n",
    "    classifier = MultinomialNB()\n",
    "    classifier.fit(X_train, y_train)\n",
    "    y_pred = classifier.predict(X_test)\n",
    "    return y_pred"
   ]
  },
  {
   "cell_type": "markdown",
   "id": "50bd2b9b",
   "metadata": {},
   "source": [
    "## Bag Of Words"
   ]
  },
  {
   "cell_type": "code",
   "execution_count": 62,
   "id": "5b4bd50c",
   "metadata": {},
   "outputs": [],
   "source": [
    "from sklearn.feature_extraction.text import CountVectorizer"
   ]
  },
  {
   "cell_type": "code",
   "execution_count": 63,
   "id": "05b99c99",
   "metadata": {},
   "outputs": [],
   "source": [
    "vectorizer_BOG = CountVectorizer()\n",
    "X_BOG = vectorizer_BOG.fit_transform(df1['text_stemmed_1'])\n",
    "y_BOG = df1['sentiment']"
   ]
  },
  {
   "cell_type": "markdown",
   "id": "e1a914bf",
   "metadata": {},
   "source": [
    "#### Train using Logistic Regression"
   ]
  },
  {
   "cell_type": "code",
   "execution_count": 64,
   "id": "323615c6",
   "metadata": {},
   "outputs": [],
   "source": [
    "X_train_BOG, X_test_BOG, y_train_BOG, y_test_BOG = train_test_split(X_BOG, y_BOG, test_size=0.2)"
   ]
  },
  {
   "cell_type": "code",
   "execution_count": 89,
   "id": "cc3ee34f",
   "metadata": {},
   "outputs": [],
   "source": [
    "classifier_BOG_Logistic = LogisticRegression()"
   ]
  },
  {
   "cell_type": "code",
   "execution_count": 90,
   "id": "318e5e79",
   "metadata": {},
   "outputs": [
    {
     "name": "stderr",
     "output_type": "stream",
     "text": [
      "C:\\Users\\adity\\anaconda3\\lib\\site-packages\\sklearn\\linear_model\\_logistic.py:458: ConvergenceWarning: lbfgs failed to converge (status=1):\n",
      "STOP: TOTAL NO. of ITERATIONS REACHED LIMIT.\n",
      "\n",
      "Increase the number of iterations (max_iter) or scale the data as shown in:\n",
      "    https://scikit-learn.org/stable/modules/preprocessing.html\n",
      "Please also refer to the documentation for alternative solver options:\n",
      "    https://scikit-learn.org/stable/modules/linear_model.html#logistic-regression\n",
      "  n_iter_i = _check_optimize_result(\n"
     ]
    },
    {
     "data": {
      "text/html": [
       "<style>#sk-container-id-2 {color: black;background-color: white;}#sk-container-id-2 pre{padding: 0;}#sk-container-id-2 div.sk-toggleable {background-color: white;}#sk-container-id-2 label.sk-toggleable__label {cursor: pointer;display: block;width: 100%;margin-bottom: 0;padding: 0.3em;box-sizing: border-box;text-align: center;}#sk-container-id-2 label.sk-toggleable__label-arrow:before {content: \"▸\";float: left;margin-right: 0.25em;color: #696969;}#sk-container-id-2 label.sk-toggleable__label-arrow:hover:before {color: black;}#sk-container-id-2 div.sk-estimator:hover label.sk-toggleable__label-arrow:before {color: black;}#sk-container-id-2 div.sk-toggleable__content {max-height: 0;max-width: 0;overflow: hidden;text-align: left;background-color: #f0f8ff;}#sk-container-id-2 div.sk-toggleable__content pre {margin: 0.2em;color: black;border-radius: 0.25em;background-color: #f0f8ff;}#sk-container-id-2 input.sk-toggleable__control:checked~div.sk-toggleable__content {max-height: 200px;max-width: 100%;overflow: auto;}#sk-container-id-2 input.sk-toggleable__control:checked~label.sk-toggleable__label-arrow:before {content: \"▾\";}#sk-container-id-2 div.sk-estimator input.sk-toggleable__control:checked~label.sk-toggleable__label {background-color: #d4ebff;}#sk-container-id-2 div.sk-label input.sk-toggleable__control:checked~label.sk-toggleable__label {background-color: #d4ebff;}#sk-container-id-2 input.sk-hidden--visually {border: 0;clip: rect(1px 1px 1px 1px);clip: rect(1px, 1px, 1px, 1px);height: 1px;margin: -1px;overflow: hidden;padding: 0;position: absolute;width: 1px;}#sk-container-id-2 div.sk-estimator {font-family: monospace;background-color: #f0f8ff;border: 1px dotted black;border-radius: 0.25em;box-sizing: border-box;margin-bottom: 0.5em;}#sk-container-id-2 div.sk-estimator:hover {background-color: #d4ebff;}#sk-container-id-2 div.sk-parallel-item::after {content: \"\";width: 100%;border-bottom: 1px solid gray;flex-grow: 1;}#sk-container-id-2 div.sk-label:hover label.sk-toggleable__label {background-color: #d4ebff;}#sk-container-id-2 div.sk-serial::before {content: \"\";position: absolute;border-left: 1px solid gray;box-sizing: border-box;top: 0;bottom: 0;left: 50%;z-index: 0;}#sk-container-id-2 div.sk-serial {display: flex;flex-direction: column;align-items: center;background-color: white;padding-right: 0.2em;padding-left: 0.2em;position: relative;}#sk-container-id-2 div.sk-item {position: relative;z-index: 1;}#sk-container-id-2 div.sk-parallel {display: flex;align-items: stretch;justify-content: center;background-color: white;position: relative;}#sk-container-id-2 div.sk-item::before, #sk-container-id-2 div.sk-parallel-item::before {content: \"\";position: absolute;border-left: 1px solid gray;box-sizing: border-box;top: 0;bottom: 0;left: 50%;z-index: -1;}#sk-container-id-2 div.sk-parallel-item {display: flex;flex-direction: column;z-index: 1;position: relative;background-color: white;}#sk-container-id-2 div.sk-parallel-item:first-child::after {align-self: flex-end;width: 50%;}#sk-container-id-2 div.sk-parallel-item:last-child::after {align-self: flex-start;width: 50%;}#sk-container-id-2 div.sk-parallel-item:only-child::after {width: 0;}#sk-container-id-2 div.sk-dashed-wrapped {border: 1px dashed gray;margin: 0 0.4em 0.5em 0.4em;box-sizing: border-box;padding-bottom: 0.4em;background-color: white;}#sk-container-id-2 div.sk-label label {font-family: monospace;font-weight: bold;display: inline-block;line-height: 1.2em;}#sk-container-id-2 div.sk-label-container {text-align: center;}#sk-container-id-2 div.sk-container {/* jupyter's `normalize.less` sets `[hidden] { display: none; }` but bootstrap.min.css set `[hidden] { display: none !important; }` so we also need the `!important` here to be able to override the default hidden behavior on the sphinx rendered scikit-learn.org. See: https://github.com/scikit-learn/scikit-learn/issues/21755 */display: inline-block !important;position: relative;}#sk-container-id-2 div.sk-text-repr-fallback {display: none;}</style><div id=\"sk-container-id-2\" class=\"sk-top-container\"><div class=\"sk-text-repr-fallback\"><pre>LogisticRegression()</pre><b>In a Jupyter environment, please rerun this cell to show the HTML representation or trust the notebook. <br />On GitHub, the HTML representation is unable to render, please try loading this page with nbviewer.org.</b></div><div class=\"sk-container\" hidden><div class=\"sk-item\"><div class=\"sk-estimator sk-toggleable\"><input class=\"sk-toggleable__control sk-hidden--visually\" id=\"sk-estimator-id-2\" type=\"checkbox\" checked><label for=\"sk-estimator-id-2\" class=\"sk-toggleable__label sk-toggleable__label-arrow\">LogisticRegression</label><div class=\"sk-toggleable__content\"><pre>LogisticRegression()</pre></div></div></div></div></div>"
      ],
      "text/plain": [
       "LogisticRegression()"
      ]
     },
     "execution_count": 90,
     "metadata": {},
     "output_type": "execute_result"
    }
   ],
   "source": [
    "classifier_BOG_Logistic.fit(X_train_BOG, y_train_BOG)"
   ]
  },
  {
   "cell_type": "code",
   "execution_count": 91,
   "id": "186ea495",
   "metadata": {},
   "outputs": [],
   "source": [
    "pred_logistic= classifier_BOG_Logistic.predict(X_test_BOG)"
   ]
  },
  {
   "cell_type": "code",
   "execution_count": 92,
   "id": "903b1439",
   "metadata": {},
   "outputs": [
    {
     "data": {
      "text/plain": [
       "0.9298718086825379"
      ]
     },
     "execution_count": 92,
     "metadata": {},
     "output_type": "execute_result"
    }
   ],
   "source": [
    "accuracy = accuracy_score(y_test_BOG,pred_logistic)\n",
    "accuracy"
   ]
  },
  {
   "cell_type": "code",
   "execution_count": 93,
   "id": "55dbd307",
   "metadata": {},
   "outputs": [
    {
     "name": "stdout",
     "output_type": "stream",
     "text": [
      "              precision    recall  f1-score   support\n",
      "\n",
      "           0       0.91      0.95      0.93     23035\n",
      "           1       0.95      0.91      0.93     23380\n",
      "\n",
      "    accuracy                           0.93     46415\n",
      "   macro avg       0.93      0.93      0.93     46415\n",
      "weighted avg       0.93      0.93      0.93     46415\n",
      "\n"
     ]
    }
   ],
   "source": [
    "report = classification_report(y_test_BOG,pred_logistic)\n",
    "print(report)"
   ]
  },
  {
   "cell_type": "markdown",
   "id": "b0bb6ab7",
   "metadata": {},
   "source": [
    "#### Train using Naive Bayes"
   ]
  },
  {
   "cell_type": "code",
   "execution_count": 94,
   "id": "319147fa",
   "metadata": {},
   "outputs": [],
   "source": [
    "classifier_BOG_naive = MultinomialNB()"
   ]
  },
  {
   "cell_type": "code",
   "execution_count": 95,
   "id": "f1889c04",
   "metadata": {},
   "outputs": [
    {
     "data": {
      "text/html": [
       "<style>#sk-container-id-3 {color: black;background-color: white;}#sk-container-id-3 pre{padding: 0;}#sk-container-id-3 div.sk-toggleable {background-color: white;}#sk-container-id-3 label.sk-toggleable__label {cursor: pointer;display: block;width: 100%;margin-bottom: 0;padding: 0.3em;box-sizing: border-box;text-align: center;}#sk-container-id-3 label.sk-toggleable__label-arrow:before {content: \"▸\";float: left;margin-right: 0.25em;color: #696969;}#sk-container-id-3 label.sk-toggleable__label-arrow:hover:before {color: black;}#sk-container-id-3 div.sk-estimator:hover label.sk-toggleable__label-arrow:before {color: black;}#sk-container-id-3 div.sk-toggleable__content {max-height: 0;max-width: 0;overflow: hidden;text-align: left;background-color: #f0f8ff;}#sk-container-id-3 div.sk-toggleable__content pre {margin: 0.2em;color: black;border-radius: 0.25em;background-color: #f0f8ff;}#sk-container-id-3 input.sk-toggleable__control:checked~div.sk-toggleable__content {max-height: 200px;max-width: 100%;overflow: auto;}#sk-container-id-3 input.sk-toggleable__control:checked~label.sk-toggleable__label-arrow:before {content: \"▾\";}#sk-container-id-3 div.sk-estimator input.sk-toggleable__control:checked~label.sk-toggleable__label {background-color: #d4ebff;}#sk-container-id-3 div.sk-label input.sk-toggleable__control:checked~label.sk-toggleable__label {background-color: #d4ebff;}#sk-container-id-3 input.sk-hidden--visually {border: 0;clip: rect(1px 1px 1px 1px);clip: rect(1px, 1px, 1px, 1px);height: 1px;margin: -1px;overflow: hidden;padding: 0;position: absolute;width: 1px;}#sk-container-id-3 div.sk-estimator {font-family: monospace;background-color: #f0f8ff;border: 1px dotted black;border-radius: 0.25em;box-sizing: border-box;margin-bottom: 0.5em;}#sk-container-id-3 div.sk-estimator:hover {background-color: #d4ebff;}#sk-container-id-3 div.sk-parallel-item::after {content: \"\";width: 100%;border-bottom: 1px solid gray;flex-grow: 1;}#sk-container-id-3 div.sk-label:hover label.sk-toggleable__label {background-color: #d4ebff;}#sk-container-id-3 div.sk-serial::before {content: \"\";position: absolute;border-left: 1px solid gray;box-sizing: border-box;top: 0;bottom: 0;left: 50%;z-index: 0;}#sk-container-id-3 div.sk-serial {display: flex;flex-direction: column;align-items: center;background-color: white;padding-right: 0.2em;padding-left: 0.2em;position: relative;}#sk-container-id-3 div.sk-item {position: relative;z-index: 1;}#sk-container-id-3 div.sk-parallel {display: flex;align-items: stretch;justify-content: center;background-color: white;position: relative;}#sk-container-id-3 div.sk-item::before, #sk-container-id-3 div.sk-parallel-item::before {content: \"\";position: absolute;border-left: 1px solid gray;box-sizing: border-box;top: 0;bottom: 0;left: 50%;z-index: -1;}#sk-container-id-3 div.sk-parallel-item {display: flex;flex-direction: column;z-index: 1;position: relative;background-color: white;}#sk-container-id-3 div.sk-parallel-item:first-child::after {align-self: flex-end;width: 50%;}#sk-container-id-3 div.sk-parallel-item:last-child::after {align-self: flex-start;width: 50%;}#sk-container-id-3 div.sk-parallel-item:only-child::after {width: 0;}#sk-container-id-3 div.sk-dashed-wrapped {border: 1px dashed gray;margin: 0 0.4em 0.5em 0.4em;box-sizing: border-box;padding-bottom: 0.4em;background-color: white;}#sk-container-id-3 div.sk-label label {font-family: monospace;font-weight: bold;display: inline-block;line-height: 1.2em;}#sk-container-id-3 div.sk-label-container {text-align: center;}#sk-container-id-3 div.sk-container {/* jupyter's `normalize.less` sets `[hidden] { display: none; }` but bootstrap.min.css set `[hidden] { display: none !important; }` so we also need the `!important` here to be able to override the default hidden behavior on the sphinx rendered scikit-learn.org. See: https://github.com/scikit-learn/scikit-learn/issues/21755 */display: inline-block !important;position: relative;}#sk-container-id-3 div.sk-text-repr-fallback {display: none;}</style><div id=\"sk-container-id-3\" class=\"sk-top-container\"><div class=\"sk-text-repr-fallback\"><pre>MultinomialNB()</pre><b>In a Jupyter environment, please rerun this cell to show the HTML representation or trust the notebook. <br />On GitHub, the HTML representation is unable to render, please try loading this page with nbviewer.org.</b></div><div class=\"sk-container\" hidden><div class=\"sk-item\"><div class=\"sk-estimator sk-toggleable\"><input class=\"sk-toggleable__control sk-hidden--visually\" id=\"sk-estimator-id-3\" type=\"checkbox\" checked><label for=\"sk-estimator-id-3\" class=\"sk-toggleable__label sk-toggleable__label-arrow\">MultinomialNB</label><div class=\"sk-toggleable__content\"><pre>MultinomialNB()</pre></div></div></div></div></div>"
      ],
      "text/plain": [
       "MultinomialNB()"
      ]
     },
     "execution_count": 95,
     "metadata": {},
     "output_type": "execute_result"
    }
   ],
   "source": [
    "classifier_BOG_naive.fit(X_train_BOG,y_train_BOG)"
   ]
  },
  {
   "cell_type": "code",
   "execution_count": 96,
   "id": "7c49b85b",
   "metadata": {},
   "outputs": [],
   "source": [
    "pred_naive=classifier_BOG_naive.predict(X_test_BOG)"
   ]
  },
  {
   "cell_type": "code",
   "execution_count": 97,
   "id": "b327e3ba",
   "metadata": {},
   "outputs": [
    {
     "data": {
      "text/plain": [
       "0.8984380049552946"
      ]
     },
     "execution_count": 97,
     "metadata": {},
     "output_type": "execute_result"
    }
   ],
   "source": [
    "accuracy = accuracy_score(y_test_BOG,pred_naive)\n",
    "accuracy"
   ]
  },
  {
   "cell_type": "code",
   "execution_count": 98,
   "id": "e1d0690a",
   "metadata": {},
   "outputs": [
    {
     "name": "stdout",
     "output_type": "stream",
     "text": [
      "              precision    recall  f1-score   support\n",
      "\n",
      "           0       0.95      0.84      0.89     23035\n",
      "           1       0.86      0.96      0.90     23380\n",
      "\n",
      "    accuracy                           0.90     46415\n",
      "   macro avg       0.90      0.90      0.90     46415\n",
      "weighted avg       0.90      0.90      0.90     46415\n",
      "\n"
     ]
    }
   ],
   "source": [
    "report = classification_report(y_test_BOG,pred_naive)\n",
    "print(report)"
   ]
  },
  {
   "cell_type": "markdown",
   "id": "d1904c8f",
   "metadata": {},
   "source": [
    "## TF-IDF"
   ]
  },
  {
   "cell_type": "code",
   "execution_count": 99,
   "id": "982e297e",
   "metadata": {},
   "outputs": [],
   "source": [
    "from sklearn.feature_extraction.text import TfidfVectorizer"
   ]
  },
  {
   "cell_type": "code",
   "execution_count": 100,
   "id": "d05660c8",
   "metadata": {},
   "outputs": [],
   "source": [
    "vectorizer_tf_idf = TfidfVectorizer()\n",
    "X_tf_idf = vectorizer_tf_idf.fit_transform(df1['text_stemmed_1'])\n",
    "y_tf_idf = df1['sentiment']"
   ]
  },
  {
   "cell_type": "markdown",
   "id": "73233564",
   "metadata": {},
   "source": [
    "#### Train using logistic"
   ]
  },
  {
   "cell_type": "code",
   "execution_count": 101,
   "id": "a2b393c9",
   "metadata": {},
   "outputs": [],
   "source": [
    "X_train_tf_idf, X_test_tf_idf, y_train_tf_idf, y_test_tf_idf = train_test_split(X_tf_idf, y_tf_idf, test_size=0.2)"
   ]
  },
  {
   "cell_type": "code",
   "execution_count": 102,
   "id": "3f123638",
   "metadata": {},
   "outputs": [],
   "source": [
    "classifier_TF_IDF_Logistic = LogisticRegression()"
   ]
  },
  {
   "cell_type": "code",
   "execution_count": 103,
   "id": "62fe66ea",
   "metadata": {},
   "outputs": [
    {
     "name": "stderr",
     "output_type": "stream",
     "text": [
      "C:\\Users\\adity\\anaconda3\\lib\\site-packages\\sklearn\\linear_model\\_logistic.py:458: ConvergenceWarning: lbfgs failed to converge (status=1):\n",
      "STOP: TOTAL NO. of ITERATIONS REACHED LIMIT.\n",
      "\n",
      "Increase the number of iterations (max_iter) or scale the data as shown in:\n",
      "    https://scikit-learn.org/stable/modules/preprocessing.html\n",
      "Please also refer to the documentation for alternative solver options:\n",
      "    https://scikit-learn.org/stable/modules/linear_model.html#logistic-regression\n",
      "  n_iter_i = _check_optimize_result(\n"
     ]
    },
    {
     "data": {
      "text/html": [
       "<style>#sk-container-id-4 {color: black;background-color: white;}#sk-container-id-4 pre{padding: 0;}#sk-container-id-4 div.sk-toggleable {background-color: white;}#sk-container-id-4 label.sk-toggleable__label {cursor: pointer;display: block;width: 100%;margin-bottom: 0;padding: 0.3em;box-sizing: border-box;text-align: center;}#sk-container-id-4 label.sk-toggleable__label-arrow:before {content: \"▸\";float: left;margin-right: 0.25em;color: #696969;}#sk-container-id-4 label.sk-toggleable__label-arrow:hover:before {color: black;}#sk-container-id-4 div.sk-estimator:hover label.sk-toggleable__label-arrow:before {color: black;}#sk-container-id-4 div.sk-toggleable__content {max-height: 0;max-width: 0;overflow: hidden;text-align: left;background-color: #f0f8ff;}#sk-container-id-4 div.sk-toggleable__content pre {margin: 0.2em;color: black;border-radius: 0.25em;background-color: #f0f8ff;}#sk-container-id-4 input.sk-toggleable__control:checked~div.sk-toggleable__content {max-height: 200px;max-width: 100%;overflow: auto;}#sk-container-id-4 input.sk-toggleable__control:checked~label.sk-toggleable__label-arrow:before {content: \"▾\";}#sk-container-id-4 div.sk-estimator input.sk-toggleable__control:checked~label.sk-toggleable__label {background-color: #d4ebff;}#sk-container-id-4 div.sk-label input.sk-toggleable__control:checked~label.sk-toggleable__label {background-color: #d4ebff;}#sk-container-id-4 input.sk-hidden--visually {border: 0;clip: rect(1px 1px 1px 1px);clip: rect(1px, 1px, 1px, 1px);height: 1px;margin: -1px;overflow: hidden;padding: 0;position: absolute;width: 1px;}#sk-container-id-4 div.sk-estimator {font-family: monospace;background-color: #f0f8ff;border: 1px dotted black;border-radius: 0.25em;box-sizing: border-box;margin-bottom: 0.5em;}#sk-container-id-4 div.sk-estimator:hover {background-color: #d4ebff;}#sk-container-id-4 div.sk-parallel-item::after {content: \"\";width: 100%;border-bottom: 1px solid gray;flex-grow: 1;}#sk-container-id-4 div.sk-label:hover label.sk-toggleable__label {background-color: #d4ebff;}#sk-container-id-4 div.sk-serial::before {content: \"\";position: absolute;border-left: 1px solid gray;box-sizing: border-box;top: 0;bottom: 0;left: 50%;z-index: 0;}#sk-container-id-4 div.sk-serial {display: flex;flex-direction: column;align-items: center;background-color: white;padding-right: 0.2em;padding-left: 0.2em;position: relative;}#sk-container-id-4 div.sk-item {position: relative;z-index: 1;}#sk-container-id-4 div.sk-parallel {display: flex;align-items: stretch;justify-content: center;background-color: white;position: relative;}#sk-container-id-4 div.sk-item::before, #sk-container-id-4 div.sk-parallel-item::before {content: \"\";position: absolute;border-left: 1px solid gray;box-sizing: border-box;top: 0;bottom: 0;left: 50%;z-index: -1;}#sk-container-id-4 div.sk-parallel-item {display: flex;flex-direction: column;z-index: 1;position: relative;background-color: white;}#sk-container-id-4 div.sk-parallel-item:first-child::after {align-self: flex-end;width: 50%;}#sk-container-id-4 div.sk-parallel-item:last-child::after {align-self: flex-start;width: 50%;}#sk-container-id-4 div.sk-parallel-item:only-child::after {width: 0;}#sk-container-id-4 div.sk-dashed-wrapped {border: 1px dashed gray;margin: 0 0.4em 0.5em 0.4em;box-sizing: border-box;padding-bottom: 0.4em;background-color: white;}#sk-container-id-4 div.sk-label label {font-family: monospace;font-weight: bold;display: inline-block;line-height: 1.2em;}#sk-container-id-4 div.sk-label-container {text-align: center;}#sk-container-id-4 div.sk-container {/* jupyter's `normalize.less` sets `[hidden] { display: none; }` but bootstrap.min.css set `[hidden] { display: none !important; }` so we also need the `!important` here to be able to override the default hidden behavior on the sphinx rendered scikit-learn.org. See: https://github.com/scikit-learn/scikit-learn/issues/21755 */display: inline-block !important;position: relative;}#sk-container-id-4 div.sk-text-repr-fallback {display: none;}</style><div id=\"sk-container-id-4\" class=\"sk-top-container\"><div class=\"sk-text-repr-fallback\"><pre>LogisticRegression()</pre><b>In a Jupyter environment, please rerun this cell to show the HTML representation or trust the notebook. <br />On GitHub, the HTML representation is unable to render, please try loading this page with nbviewer.org.</b></div><div class=\"sk-container\" hidden><div class=\"sk-item\"><div class=\"sk-estimator sk-toggleable\"><input class=\"sk-toggleable__control sk-hidden--visually\" id=\"sk-estimator-id-4\" type=\"checkbox\" checked><label for=\"sk-estimator-id-4\" class=\"sk-toggleable__label sk-toggleable__label-arrow\">LogisticRegression</label><div class=\"sk-toggleable__content\"><pre>LogisticRegression()</pre></div></div></div></div></div>"
      ],
      "text/plain": [
       "LogisticRegression()"
      ]
     },
     "execution_count": 103,
     "metadata": {},
     "output_type": "execute_result"
    }
   ],
   "source": [
    "classifier_TF_IDF_Logistic.fit(X_train_tf_idf, y_train_tf_idf)"
   ]
  },
  {
   "cell_type": "code",
   "execution_count": 104,
   "id": "12847f9e",
   "metadata": {},
   "outputs": [],
   "source": [
    "pred_logistic= classifier_TF_IDF_Logistic.predict(X_test_tf_idf)"
   ]
  },
  {
   "cell_type": "code",
   "execution_count": 105,
   "id": "d7b20189",
   "metadata": {},
   "outputs": [
    {
     "data": {
      "text/plain": [
       "0.9306905095335559"
      ]
     },
     "execution_count": 105,
     "metadata": {},
     "output_type": "execute_result"
    }
   ],
   "source": [
    "accuracy = accuracy_score(y_test_tf_idf,pred_logistic)\n",
    "accuracy"
   ]
  },
  {
   "cell_type": "code",
   "execution_count": 106,
   "id": "79000376",
   "metadata": {},
   "outputs": [
    {
     "name": "stdout",
     "output_type": "stream",
     "text": [
      "              precision    recall  f1-score   support\n",
      "\n",
      "           0       0.92      0.95      0.93     23050\n",
      "           1       0.95      0.92      0.93     23365\n",
      "\n",
      "    accuracy                           0.93     46415\n",
      "   macro avg       0.93      0.93      0.93     46415\n",
      "weighted avg       0.93      0.93      0.93     46415\n",
      "\n"
     ]
    }
   ],
   "source": [
    "report = classification_report(y_test_tf_idf,pred_logistic)\n",
    "print(report)"
   ]
  },
  {
   "cell_type": "markdown",
   "id": "23f8935b",
   "metadata": {},
   "source": [
    "#### Train using naive bayes"
   ]
  },
  {
   "cell_type": "code",
   "execution_count": 107,
   "id": "e1b4c303",
   "metadata": {},
   "outputs": [],
   "source": [
    "classifier_TF_IDF_naive = MultinomialNB()"
   ]
  },
  {
   "cell_type": "code",
   "execution_count": 108,
   "id": "4f0d718d",
   "metadata": {},
   "outputs": [
    {
     "data": {
      "text/html": [
       "<style>#sk-container-id-5 {color: black;background-color: white;}#sk-container-id-5 pre{padding: 0;}#sk-container-id-5 div.sk-toggleable {background-color: white;}#sk-container-id-5 label.sk-toggleable__label {cursor: pointer;display: block;width: 100%;margin-bottom: 0;padding: 0.3em;box-sizing: border-box;text-align: center;}#sk-container-id-5 label.sk-toggleable__label-arrow:before {content: \"▸\";float: left;margin-right: 0.25em;color: #696969;}#sk-container-id-5 label.sk-toggleable__label-arrow:hover:before {color: black;}#sk-container-id-5 div.sk-estimator:hover label.sk-toggleable__label-arrow:before {color: black;}#sk-container-id-5 div.sk-toggleable__content {max-height: 0;max-width: 0;overflow: hidden;text-align: left;background-color: #f0f8ff;}#sk-container-id-5 div.sk-toggleable__content pre {margin: 0.2em;color: black;border-radius: 0.25em;background-color: #f0f8ff;}#sk-container-id-5 input.sk-toggleable__control:checked~div.sk-toggleable__content {max-height: 200px;max-width: 100%;overflow: auto;}#sk-container-id-5 input.sk-toggleable__control:checked~label.sk-toggleable__label-arrow:before {content: \"▾\";}#sk-container-id-5 div.sk-estimator input.sk-toggleable__control:checked~label.sk-toggleable__label {background-color: #d4ebff;}#sk-container-id-5 div.sk-label input.sk-toggleable__control:checked~label.sk-toggleable__label {background-color: #d4ebff;}#sk-container-id-5 input.sk-hidden--visually {border: 0;clip: rect(1px 1px 1px 1px);clip: rect(1px, 1px, 1px, 1px);height: 1px;margin: -1px;overflow: hidden;padding: 0;position: absolute;width: 1px;}#sk-container-id-5 div.sk-estimator {font-family: monospace;background-color: #f0f8ff;border: 1px dotted black;border-radius: 0.25em;box-sizing: border-box;margin-bottom: 0.5em;}#sk-container-id-5 div.sk-estimator:hover {background-color: #d4ebff;}#sk-container-id-5 div.sk-parallel-item::after {content: \"\";width: 100%;border-bottom: 1px solid gray;flex-grow: 1;}#sk-container-id-5 div.sk-label:hover label.sk-toggleable__label {background-color: #d4ebff;}#sk-container-id-5 div.sk-serial::before {content: \"\";position: absolute;border-left: 1px solid gray;box-sizing: border-box;top: 0;bottom: 0;left: 50%;z-index: 0;}#sk-container-id-5 div.sk-serial {display: flex;flex-direction: column;align-items: center;background-color: white;padding-right: 0.2em;padding-left: 0.2em;position: relative;}#sk-container-id-5 div.sk-item {position: relative;z-index: 1;}#sk-container-id-5 div.sk-parallel {display: flex;align-items: stretch;justify-content: center;background-color: white;position: relative;}#sk-container-id-5 div.sk-item::before, #sk-container-id-5 div.sk-parallel-item::before {content: \"\";position: absolute;border-left: 1px solid gray;box-sizing: border-box;top: 0;bottom: 0;left: 50%;z-index: -1;}#sk-container-id-5 div.sk-parallel-item {display: flex;flex-direction: column;z-index: 1;position: relative;background-color: white;}#sk-container-id-5 div.sk-parallel-item:first-child::after {align-self: flex-end;width: 50%;}#sk-container-id-5 div.sk-parallel-item:last-child::after {align-self: flex-start;width: 50%;}#sk-container-id-5 div.sk-parallel-item:only-child::after {width: 0;}#sk-container-id-5 div.sk-dashed-wrapped {border: 1px dashed gray;margin: 0 0.4em 0.5em 0.4em;box-sizing: border-box;padding-bottom: 0.4em;background-color: white;}#sk-container-id-5 div.sk-label label {font-family: monospace;font-weight: bold;display: inline-block;line-height: 1.2em;}#sk-container-id-5 div.sk-label-container {text-align: center;}#sk-container-id-5 div.sk-container {/* jupyter's `normalize.less` sets `[hidden] { display: none; }` but bootstrap.min.css set `[hidden] { display: none !important; }` so we also need the `!important` here to be able to override the default hidden behavior on the sphinx rendered scikit-learn.org. See: https://github.com/scikit-learn/scikit-learn/issues/21755 */display: inline-block !important;position: relative;}#sk-container-id-5 div.sk-text-repr-fallback {display: none;}</style><div id=\"sk-container-id-5\" class=\"sk-top-container\"><div class=\"sk-text-repr-fallback\"><pre>MultinomialNB()</pre><b>In a Jupyter environment, please rerun this cell to show the HTML representation or trust the notebook. <br />On GitHub, the HTML representation is unable to render, please try loading this page with nbviewer.org.</b></div><div class=\"sk-container\" hidden><div class=\"sk-item\"><div class=\"sk-estimator sk-toggleable\"><input class=\"sk-toggleable__control sk-hidden--visually\" id=\"sk-estimator-id-5\" type=\"checkbox\" checked><label for=\"sk-estimator-id-5\" class=\"sk-toggleable__label sk-toggleable__label-arrow\">MultinomialNB</label><div class=\"sk-toggleable__content\"><pre>MultinomialNB()</pre></div></div></div></div></div>"
      ],
      "text/plain": [
       "MultinomialNB()"
      ]
     },
     "execution_count": 108,
     "metadata": {},
     "output_type": "execute_result"
    }
   ],
   "source": [
    "classifier_TF_IDF_naive.fit(X_train_tf_idf, y_train_tf_idf)"
   ]
  },
  {
   "cell_type": "code",
   "execution_count": 109,
   "id": "50f96bd5",
   "metadata": {},
   "outputs": [],
   "source": [
    "pred_naive= classifier_TF_IDF_naive.predict(X_test_tf_idf)"
   ]
  },
  {
   "cell_type": "code",
   "execution_count": 110,
   "id": "169db197",
   "metadata": {},
   "outputs": [],
   "source": [
    "pred_naive=naive_bayes_func(X_train_tf_idf, X_test_tf_idf, y_train_tf_idf, y_test_tf_idf)"
   ]
  },
  {
   "cell_type": "code",
   "execution_count": 111,
   "id": "d11113eb",
   "metadata": {},
   "outputs": [
    {
     "data": {
      "text/plain": [
       "0.881805450824087"
      ]
     },
     "execution_count": 111,
     "metadata": {},
     "output_type": "execute_result"
    }
   ],
   "source": [
    "accuracy = accuracy_score(y_test_tf_idf,pred_naive)\n",
    "accuracy"
   ]
  },
  {
   "cell_type": "code",
   "execution_count": 112,
   "id": "bed4b99f",
   "metadata": {},
   "outputs": [
    {
     "name": "stdout",
     "output_type": "stream",
     "text": [
      "              precision    recall  f1-score   support\n",
      "\n",
      "           0       0.96      0.79      0.87     23050\n",
      "           1       0.83      0.97      0.89     23365\n",
      "\n",
      "    accuracy                           0.88     46415\n",
      "   macro avg       0.89      0.88      0.88     46415\n",
      "weighted avg       0.89      0.88      0.88     46415\n",
      "\n"
     ]
    }
   ],
   "source": [
    "report = classification_report(y_test_tf_idf,pred_naive)\n",
    "print(report)"
   ]
  },
  {
   "cell_type": "markdown",
   "id": "53987b66",
   "metadata": {},
   "source": [
    "### Prediction"
   ]
  },
  {
   "cell_type": "code",
   "execution_count": 128,
   "id": "65db929b",
   "metadata": {},
   "outputs": [],
   "source": [
    "def predict(text):\n",
    "    from nltk.tokenize import word_tokenize\n",
    "    # Convert the text to lowercase\n",
    "    text = text.lower()\n",
    "    \n",
    "    # Remove special characters, numbers, and punctuation\n",
    "    text = re.sub(r'[^a-zA-Z\\s]', '', text)\n",
    "    \n",
    "    # Tokenize the text into words\n",
    "    words = word_tokenize(text)\n",
    "    \n",
    "    # Remove stop words\n",
    "    stop_words = set(stopwords.words('english'))\n",
    "    words = [word for word in words if word not in stop_words]\n",
    "    \n",
    "    # Perform stemming using Porter Stemmer\n",
    "    stemmer = PorterStemmer()\n",
    "    words = [stemmer.stem(word) for word in words]\n",
    "    \n",
    "    # Join the words back into a single string\n",
    "    preprocessed_text = ' '.join(words)\n",
    "    \n",
    "    tfidf_vector_new_text = vectorizer_tf_idf.transform([preprocessed_text])\n",
    "    predicted_sentiment = classifier_TF_IDF_Logistic.predict(tfidf_vector_new_text)\n",
    "    if predicted_sentiment==1:\n",
    "        print(\"The person is in suicidal condition\")\n",
    "    else:\n",
    "        print(\"The person is not in suicidal condition\")"
   ]
  },
  {
   "cell_type": "code",
   "execution_count": 135,
   "id": "ae0ca328",
   "metadata": {},
   "outputs": [],
   "source": [
    "Text=\"I am happy\""
   ]
  },
  {
   "cell_type": "code",
   "execution_count": 136,
   "id": "e816d04e",
   "metadata": {},
   "outputs": [
    {
     "name": "stdout",
     "output_type": "stream",
     "text": [
      "The person is not in suicidal condition\n"
     ]
    }
   ],
   "source": [
    "predict(Text)"
   ]
  },
  {
   "cell_type": "code",
   "execution_count": null,
   "id": "7825ee7f",
   "metadata": {},
   "outputs": [],
   "source": []
  },
  {
   "cell_type": "code",
   "execution_count": null,
   "id": "4c2241f3",
   "metadata": {},
   "outputs": [],
   "source": []
  },
  {
   "cell_type": "code",
   "execution_count": null,
   "id": "28495cb0",
   "metadata": {},
   "outputs": [],
   "source": []
  },
  {
   "cell_type": "code",
   "execution_count": null,
   "id": "99137996",
   "metadata": {},
   "outputs": [],
   "source": []
  }
 ],
 "metadata": {
  "kernelspec": {
   "display_name": "Python 3 (ipykernel)",
   "language": "python",
   "name": "python3"
  },
  "language_info": {
   "codemirror_mode": {
    "name": "ipython",
    "version": 3
   },
   "file_extension": ".py",
   "mimetype": "text/x-python",
   "name": "python",
   "nbconvert_exporter": "python",
   "pygments_lexer": "ipython3",
   "version": "3.10.9"
  }
 },
 "nbformat": 4,
 "nbformat_minor": 5
}
